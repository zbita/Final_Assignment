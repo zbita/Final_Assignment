{
 "cells": [
  {
   "cell_type": "markdown",
   "metadata": {},
   "source": [
    "# Battle of the Neighborhoods week 2"
   ]
  },
  {
   "cell_type": "markdown",
   "metadata": {},
   "source": [
    "## Table of contents\n",
    "\n",
    "* [Introduction: Business Problem](#introduction)\n",
    "* [Data](#data)\n",
    "* [Methodology](#methodology)\n",
    "* [Analysis](#analysis)\n",
    "* [Results and Discussion](#results)\n",
    "* [Conclusion](#conclusion)"
   ]
  },
  {
   "cell_type": "markdown",
   "metadata": {},
   "source": [
    "## Introduction: Business Problem <a id=\"introduction\"></a>\n"
   ]
  },
  {
   "cell_type": "markdown",
   "metadata": {},
   "source": [
    "The objective of this project is to find the best location to move into the Abingdon-on-Thames area.\n",
    "Currently looking to move into the area of Abingdon-on-Thames and would like to take advantage of this project to use it in my favour to help me identify the best and the worst areas to live.\n",
    "\n",
    "First step is to choose the safest borough by analysing **police crime data**. Also I need to understand the boroughs so would like to get the **Lower Layer Super Output Areas (LSOA)** for the area of interest. LSOA are a geographic hierarchy designed to improve the reporting of small area statistics in England and Wales.  \n",
    "Finally, then after having defined the area, get data from **FourSquare** to help us choose the best area for supermarket, leisure centres, good schools, parks and restaurants, etc.\n",
    " \n",
    "Using data science tools, will help us analyse data and focus on the safest borough and explore its neighborhoods and the common venues in each neighborhood.\n",
    " \n",
    "The success criteria of the project will be that after having analysed such factors, we would then be able to make the best choice for the family."
   ]
  },
  {
   "cell_type": "markdown",
   "metadata": {},
   "source": [
    "## Data <a id=\"data\"></a>"
   ]
  },
  {
   "cell_type": "markdown",
   "metadata": {},
   "source": [
    "After having defined our problem, below are the factors that will help us make our decission:\n",
    "\n",
    " * finding the safest area using crime data statistics\n",
    " * finding the neaby venues around the preferred areas\n",
    " * choosing the right neighbourhood within the borough\n",
    " \n",
    " We will be using the geographical coordinates of Abingdon to plot neighbourhoods in a borough that is safe and in the city's vicinity, and finally cluster the neighborhoods, plot the crime data, get venues and present our findings.\n",
    " \n",
    " Following data sources will be needed to get the required information:\n",
    " \n",
    " - [**Step 1**: Using a real world data set from Police Data UK, get crime data for last yeat](#step1):  A dataset consisting of the crime statistics of each Neighbourhoof in Thames Valley along with type of crime.\n",
    " \n",
    " - [**Step 2**: Gathering LSOA information from Ordonance Survey of the list of boroughs around for Oxfordshire.](#step2): Borough information will be used to map the crime data data and identify a the boroughs that are best and worst.\n",
    " \n",
    " - [**Step 3**: Creating a dataset of the boroughs's location and the crime data.](#step3): This data will be consolidated and we will be able to explore more about the neighbourhood and the crime around it by plotting it on maps using Folium and perform exploratory data analysis.\n",
    " \n",
    " - [**Step 4**: Adding the dataset from FourSquare with the most common venues and the respective Neighbourhood along with co-ordinates.](#step4): This data will be fetched using Four Square API to explore the neighbourhood venues and to apply machine learning algorithm to cluster the neighbourhoods and present the findings by plotting it on maps using Folium."
   ]
  },
  {
   "source": [
    "###**Step 1:** Using a real world data set from Police Data UK, get crime data for last yeat<a id=\"step1\"></a>\n",
    "\n",
    "\n",
    "####  Vancouver Crime Report \n",
    "\n",
    "Properties of the Crime Report\n",
    "\n",
    "*   TYPE - Crime type\n",
    "*   YEAR - Recorded year\n",
    "*   MONTH - Recorded month\n",
    "*   DAY - Recorded day\n",
    "*   HOUR - Recorded hour\n",
    "*   MINUTE - Recorded minute\n",
    "*   HUNDRED_BLOCK - Recorded block\n",
    "*   NEIGHBOURHOOD - Recorded neighborhood\n",
    "*   X - GPS longtitude\n",
    "*   Y - GPS latitude\n",
    "\n",
    "Data set URL: https://www.kaggle.com/agilesifaka/vancouver-crime-report/version/2"
   ],
   "cell_type": "markdown",
   "metadata": {}
  }
 ],
 "metadata": {
  "kernelspec": {
   "display_name": "Python 3",
   "language": "python",
   "name": "python3"
  },
  "language_info": {
   "codemirror_mode": {
    "name": "ipython",
    "version": 3
   },
   "file_extension": ".py",
   "mimetype": "text/x-python",
   "name": "python",
   "nbconvert_exporter": "python",
   "pygments_lexer": "ipython3",
   "version": "3.8.3"
  }
 },
 "nbformat": 4,
 "nbformat_minor": 2
}