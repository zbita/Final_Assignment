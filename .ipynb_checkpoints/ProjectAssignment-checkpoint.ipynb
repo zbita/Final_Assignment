{
 "cells": [
  {
   "cell_type": "markdown",
   "metadata": {},
   "source": [
    "# Battle of the Neighborhoods week 2"
   ]
  },
  {
   "cell_type": "markdown",
   "metadata": {},
   "source": [
    "## Table of contents\n",
    "\n",
    "* [Introduction: Business Problem](#introduction)\n",
    "* [Data](#data)\n",
    "* [Methodology](#methodology)\n",
    "* [Analysis](#analysis)\n",
    "* [Results and Discussion](#results)\n",
    "* [Conclusion](#conclusion)"
   ]
  },
  {
   "cell_type": "markdown",
   "metadata": {},
   "source": [
    "## Introduction: Business Problem <a id=\"introduction\"></a>\n"
   ]
  },
  {
   "cell_type": "markdown",
   "metadata": {},
   "source": [
    "The objective of this project is to find the best location to move into the Abingdon-on-Thames area.\n",
    "Currently looking to move into the area of Abingdon-on-Thames and would like to take advantage of this project to use it in my favour to help me identify the best and the worst areas to live.\n",
    "\n",
    "First step is to choose the safest borough by analysing **police crime data**. Also I need to understand the boroughs so would like to get the **Lower Layer Super Output Areas (LSOA)** for the area of interest. LSOA are a geographic hierarchy designed to improve the reporting of small area statistics in England and Wales.  \n",
    "Finally, then after having defined the area, get data from **FourSquare** to help us choose the best area for supermarket, leisure centres, good schools, parks and restaurants, etc.\n",
    " \n",
    "Using data science tools, will help us analyse data and focus on the safest borough and explore its neighborhoods and the common venues in each neighborhood.\n",
    " \n",
    "The success criteria of the project will be that after having analysed such factors, we would then be able to make the best choice for the family."
   ]
  },
  {
   "cell_type": "markdown",
   "metadata": {},
   "source": [
    "## Data <a id=\"data\"></a>"
   ]
  },
  {
   "cell_type": "markdown",
   "metadata": {},
   "source": [
    "After having defined our problem, below are the factors that will help us make our decission:\n",
    "\n",
    " * finding the safest area using crime data statistics\n",
    " * finding the neaby venues around the preferred areas\n",
    " * choosing the right neighbourhood within the borough\n",
    " \n",
    " We will be using the geographical coordinates of Abingdon to plot neighbourhoods in a borough that is safe and in the city's vicinity, and finally cluster the neighborhoods, plot the crime data, get venues and present our findings.\n",
    " \n",
    " Following data sources will be needed to get the required information:\n",
    " \n",
    " - [**Step 1**: Using a real world data set from Police Data UK, get crime data for last year](#step1):  A dataset consisting of the crime statistics of each Neighbourhoof in Thames Valley along with type of crime.\n",
    " \n",
    " - [**Step 2**: Gathering LSOA and UK boundary information from Ordonance Survey of the list of boroughs around for Oxfordshire.](#step2): Borough information will be used to map the crime data data and identify a the boroughs that are best and worst.\n",
    " \n",
    " - [**Step 3**: Creating a dataset of the boroughs's location and the crime data.](#step3): This data will be consolidated and we will be able to explore more about the neighbourhood and the crime around it by plotting it on maps using Folium and perform exploratory data analysis.\n",
    " \n",
    " - [**Step 4**: Adding the dataset from FourSquare with the most common venues and the respective Neighbourhood along with co-ordinates.](#step4): This data will be fetched using Four Square API to explore the neighbourhood venues and to apply machine learning algorithm to cluster the neighbourhoods and present the findings by plotting it on maps using Folium."
   ]
  },
  {
   "cell_type": "markdown",
   "metadata": {},
   "source": [
    "### **Step 1:** Using a real world data set from Police Data UK, get crime data for last year <a id=\"step1\"></a>\n",
    "\n",
    "\n",
    "####  Thames Valley Crime Report \n",
    "\n",
    "Properties of the Crime Report\n",
    "\n",
    "*   CRIME ID - Crime type\n",
    "*   MONTH - Recorded month\n",
    "*   REPORTED BY - authority who reported it\n",
    "*   FALLS WITHIN - authority responsible\n",
    "*   LONGITUDE - GPS longtitude\n",
    "*   LATITUDE - GPS latitude\n",
    "*   LOCATION - where was the crime\n",
    "*   LSOA code - borough code where it falls \n",
    "*   LSOA name - borough name where it falls\n",
    "*   CRIME TYPE - type of crime \n",
    "\n",
    "Data set URL: https://data.police.uk"
   ]
  },
  {
   "cell_type": "markdown",
   "metadata": {},
   "source": [
    "### Import all the libraries that are needed beforehand"
   ]
  },
  {
   "cell_type": "code",
   "execution_count": 4,
   "metadata": {},
   "outputs": [],
   "source": [
    "import time\n",
    "import numpy as np  # data vectors\n",
    "import pandas as pd # data analysis\n",
    "from collections import Counter\n",
    "from pandas.io.json import json_normalize # transform json into pandas dataframe\n",
    "import matplotlib.cm as cm #plotting\n",
    "import matplotlib.colors as colors\n",
    "import matplotlib.pyplot as py\n",
    "import json\n",
    "import requests\n",
    "from geopy.geocoders import Nominatim #get lat and long\n",
    "from sklearn.cluster import KMeans #clustering\n",
    "import folium #visualise map\n",
    "import os\n",
    "import geopandas as gpd\n",
    "import earthpy as et\n",
    "from folium.plugins import HeatMap\n",
    "import geopandas\n",
    "import matplotlib.pyplot as plt\n",
    "import matplotlib.lines as mlines\n",
    "from matplotlib.colors import ListedColormap\n",
    "from shapely.geometry import box # Load the box module from shapely to create box objects\n",
    "from shapely.geometry import shape\n",
    "import earthpy as et\n",
    "import seaborn as sns"
   ]
  },
  {
   "cell_type": "markdown",
   "metadata": {},
   "source": [
    "## Reading from the Dataset\n",
    "\n",
    "Due to the amount of data, for this project, I limited the data for one year to include the year of 2019.\n",
    "Get the CSV file for the Crime data from the Police database data.police.uk"
   ]
  },
  {
   "cell_type": "code",
   "execution_count": 5,
   "metadata": {},
   "outputs": [
    {
     "data": {
      "text/html": [
       "<div>\n",
       "<style scoped>\n",
       "    .dataframe tbody tr th:only-of-type {\n",
       "        vertical-align: middle;\n",
       "    }\n",
       "\n",
       "    .dataframe tbody tr th {\n",
       "        vertical-align: top;\n",
       "    }\n",
       "\n",
       "    .dataframe thead th {\n",
       "        text-align: right;\n",
       "    }\n",
       "</style>\n",
       "<table border=\"1\" class=\"dataframe\">\n",
       "  <thead>\n",
       "    <tr style=\"text-align: right;\">\n",
       "      <th></th>\n",
       "      <th>Crime ID</th>\n",
       "      <th>Month</th>\n",
       "      <th>Reported by</th>\n",
       "      <th>Falls within</th>\n",
       "      <th>Longitude</th>\n",
       "      <th>Latitude</th>\n",
       "      <th>Location</th>\n",
       "      <th>LSOA code</th>\n",
       "      <th>LSOA name</th>\n",
       "      <th>Crime type</th>\n",
       "      <th>Count</th>\n",
       "    </tr>\n",
       "  </thead>\n",
       "  <tbody>\n",
       "    <tr>\n",
       "      <th>0</th>\n",
       "      <td>3d294010dbca88ade8b95964f03d79dae86cbece156e32...</td>\n",
       "      <td>2019-08</td>\n",
       "      <td>Thames Valley Police</td>\n",
       "      <td>Thames Valley Police</td>\n",
       "      <td>-1.327884</td>\n",
       "      <td>51.753488</td>\n",
       "      <td>On or near Eynsham Road</td>\n",
       "      <td>E01028708</td>\n",
       "      <td>Vale of White Horse 001A</td>\n",
       "      <td>Violence and sexual offences</td>\n",
       "      <td>1</td>\n",
       "    </tr>\n",
       "    <tr>\n",
       "      <th>1</th>\n",
       "      <td>dbcbf4f976221e1e202c7019f2803f9ba80a8e1c8881d9...</td>\n",
       "      <td>2019-08</td>\n",
       "      <td>Thames Valley Police</td>\n",
       "      <td>Thames Valley Police</td>\n",
       "      <td>-1.308601</td>\n",
       "      <td>51.748808</td>\n",
       "      <td>On or near Third Acre Rise</td>\n",
       "      <td>E01028709</td>\n",
       "      <td>Vale of White Horse 001B</td>\n",
       "      <td>Burglary</td>\n",
       "      <td>1</td>\n",
       "    </tr>\n",
       "    <tr>\n",
       "      <th>2</th>\n",
       "      <td>95569239a93eb375ef1a30f147975303c0aaa322755be2...</td>\n",
       "      <td>2019-08</td>\n",
       "      <td>Thames Valley Police</td>\n",
       "      <td>Thames Valley Police</td>\n",
       "      <td>-1.312464</td>\n",
       "      <td>51.750027</td>\n",
       "      <td>On or near Grange Court</td>\n",
       "      <td>E01028709</td>\n",
       "      <td>Vale of White Horse 001B</td>\n",
       "      <td>Violence and sexual offences</td>\n",
       "      <td>1</td>\n",
       "    </tr>\n",
       "    <tr>\n",
       "      <th>3</th>\n",
       "      <td>cdb82cca5ab21305455295afad2e04a4f2b4b2066d2709...</td>\n",
       "      <td>2019-08</td>\n",
       "      <td>Thames Valley Police</td>\n",
       "      <td>Thames Valley Police</td>\n",
       "      <td>-1.307831</td>\n",
       "      <td>51.741359</td>\n",
       "      <td>On or near Barn Close</td>\n",
       "      <td>E01028710</td>\n",
       "      <td>Vale of White Horse 001C</td>\n",
       "      <td>Other theft</td>\n",
       "      <td>1</td>\n",
       "    </tr>\n",
       "    <tr>\n",
       "      <th>4</th>\n",
       "      <td>f94e1c275753292c47a748c7241c75beb667817009ef96...</td>\n",
       "      <td>2019-08</td>\n",
       "      <td>Thames Valley Police</td>\n",
       "      <td>Thames Valley Police</td>\n",
       "      <td>-1.308480</td>\n",
       "      <td>51.742487</td>\n",
       "      <td>On or near Delamare Way</td>\n",
       "      <td>E01028710</td>\n",
       "      <td>Vale of White Horse 001C</td>\n",
       "      <td>Public order</td>\n",
       "      <td>1</td>\n",
       "    </tr>\n",
       "  </tbody>\n",
       "</table>\n",
       "</div>"
      ],
      "text/plain": [
       "                                            Crime ID    Month  \\\n",
       "0  3d294010dbca88ade8b95964f03d79dae86cbece156e32...  2019-08   \n",
       "1  dbcbf4f976221e1e202c7019f2803f9ba80a8e1c8881d9...  2019-08   \n",
       "2  95569239a93eb375ef1a30f147975303c0aaa322755be2...  2019-08   \n",
       "3  cdb82cca5ab21305455295afad2e04a4f2b4b2066d2709...  2019-08   \n",
       "4  f94e1c275753292c47a748c7241c75beb667817009ef96...  2019-08   \n",
       "\n",
       "            Reported by          Falls within  Longitude   Latitude  \\\n",
       "0  Thames Valley Police  Thames Valley Police  -1.327884  51.753488   \n",
       "1  Thames Valley Police  Thames Valley Police  -1.308601  51.748808   \n",
       "2  Thames Valley Police  Thames Valley Police  -1.312464  51.750027   \n",
       "3  Thames Valley Police  Thames Valley Police  -1.307831  51.741359   \n",
       "4  Thames Valley Police  Thames Valley Police  -1.308480  51.742487   \n",
       "\n",
       "                     Location  LSOA code                 LSOA name  \\\n",
       "0     On or near Eynsham Road  E01028708  Vale of White Horse 001A   \n",
       "1  On or near Third Acre Rise  E01028709  Vale of White Horse 001B   \n",
       "2     On or near Grange Court  E01028709  Vale of White Horse 001B   \n",
       "3       On or near Barn Close  E01028710  Vale of White Horse 001C   \n",
       "4     On or near Delamare Way  E01028710  Vale of White Horse 001C   \n",
       "\n",
       "                     Crime type  Count  \n",
       "0  Violence and sexual offences      1  \n",
       "1                      Burglary      1  \n",
       "2  Violence and sexual offences      1  \n",
       "3                   Other theft      1  \n",
       "4                  Public order      1  "
      ]
     },
     "execution_count": 5,
     "metadata": {},
     "output_type": "execute_result"
    }
   ],
   "source": [
    "CSV = pd.read_csv(\"ThamesValleyCRIMEDATA.csv\")\n",
    "CSV.head()"
   ]
  },
  {
   "cell_type": "markdown",
   "metadata": {},
   "source": [
    "### Total Crimes in different Boroughs"
   ]
  },
  {
   "cell_type": "code",
   "execution_count": 6,
   "metadata": {},
   "outputs": [
    {
     "data": {
      "text/plain": [
       "On or near Supermarket               267\n",
       "On or near Police Station            235\n",
       "On or near Parking Area              187\n",
       "On or near Petrol Station            101\n",
       "On or near Sports/Recreation Area     90\n",
       "                                    ... \n",
       "On or near Bakery Lane                 1\n",
       "On or near Corn Avill Close            1\n",
       "On or near Mably Way                   1\n",
       "On or near Conifer Close               1\n",
       "On or near Woolstone Road              1\n",
       "Name: Location, Length: 1069, dtype: int64"
      ]
     },
     "execution_count": 6,
     "metadata": {},
     "output_type": "execute_result"
    }
   ],
   "source": [
    "CSV['Location'].value_counts()"
   ]
  },
  {
   "cell_type": "markdown",
   "metadata": {},
   "source": [
    "### **Part 2:** Gathering LSOA and UK boundary information from Ordonance Survey of the list of boroughs around for Oxfordshire<a name=\"step2\"></a>\n",
    "\n",
    "As part of data set by borough, so we will get first get the shapefile for the UK Boundary from the Ordonance Survey."
   ]
  },
  {
   "cell_type": "markdown",
   "metadata": {},
   "source": [
    "Get the shapefile for the UK Boundary from Ordnance Survey website"
   ]
  },
  {
   "cell_type": "code",
   "execution_count": 8,
   "metadata": {},
   "outputs": [
    {
     "data": {
      "text/plain": [
       "GeoSeries([], Name: geometry, dtype: geometry)"
      ]
     },
     "execution_count": 8,
     "metadata": {},
     "output_type": "execute_result"
    }
   ],
   "source": [
    "data = gpd.read_file('Sectors.shp')\n",
    "ox_index = data[data.name == \"OX\"].index\n",
    "ox_geom = data.loc[ox_index,'geometry']\n",
    "ox_geom.head()"
   ]
  },
  {
   "cell_type": "code",
   "execution_count": 10,
   "metadata": {},
   "outputs": [
    {
     "data": {
      "text/html": [
       "<div>\n",
       "<style scoped>\n",
       "    .dataframe tbody tr th:only-of-type {\n",
       "        vertical-align: middle;\n",
       "    }\n",
       "\n",
       "    .dataframe tbody tr th {\n",
       "        vertical-align: top;\n",
       "    }\n",
       "\n",
       "    .dataframe thead th {\n",
       "        text-align: right;\n",
       "    }\n",
       "</style>\n",
       "<table border=\"1\" class=\"dataframe\">\n",
       "  <thead>\n",
       "    <tr style=\"text-align: right;\">\n",
       "      <th></th>\n",
       "      <th>name</th>\n",
       "      <th>geometry</th>\n",
       "    </tr>\n",
       "  </thead>\n",
       "  <tbody>\n",
       "    <tr>\n",
       "      <th>0</th>\n",
       "      <td>AB10 1</td>\n",
       "      <td>POLYGON ((-2.11645 57.14656, -2.11655 57.14663...</td>\n",
       "    </tr>\n",
       "    <tr>\n",
       "      <th>1</th>\n",
       "      <td>AB10 6</td>\n",
       "      <td>MULTIPOLYGON (((-2.12239 57.12887, -2.12279 57...</td>\n",
       "    </tr>\n",
       "    <tr>\n",
       "      <th>2</th>\n",
       "      <td>AB10 7</td>\n",
       "      <td>POLYGON ((-2.12239 57.12887, -2.12119 57.12972...</td>\n",
       "    </tr>\n",
       "    <tr>\n",
       "      <th>3</th>\n",
       "      <td>AB11 5</td>\n",
       "      <td>POLYGON ((-2.05528 57.14547, -2.05841 57.14103...</td>\n",
       "    </tr>\n",
       "    <tr>\n",
       "      <th>4</th>\n",
       "      <td>AB11 6</td>\n",
       "      <td>POLYGON ((-2.09818 57.13769, -2.09803 57.13852...</td>\n",
       "    </tr>\n",
       "  </tbody>\n",
       "</table>\n",
       "</div>"
      ],
      "text/plain": [
       "     name                                           geometry\n",
       "0  AB10 1  POLYGON ((-2.11645 57.14656, -2.11655 57.14663...\n",
       "1  AB10 6  MULTIPOLYGON (((-2.12239 57.12887, -2.12279 57...\n",
       "2  AB10 7  POLYGON ((-2.12239 57.12887, -2.12119 57.12972...\n",
       "3  AB11 5  POLYGON ((-2.05528 57.14547, -2.05841 57.14103...\n",
       "4  AB11 6  POLYGON ((-2.09818 57.13769, -2.09803 57.13852..."
      ]
     },
     "execution_count": 10,
     "metadata": {},
     "output_type": "execute_result"
    }
   ],
   "source": [
    "shapefile = gpd.read_file(\"Sectors.shp\")\n",
    "shapefile.head()"
   ]
  },
  {
   "cell_type": "markdown",
   "metadata": {},
   "source": [
    "Get the coordinates for our desired location and save latitude and longitude"
   ]
  },
  {
   "cell_type": "code",
   "execution_count": 11,
   "metadata": {},
   "outputs": [
    {
     "name": "stdout",
     "output_type": "stream",
     "text": [
      "The geograpical coordinates of Abingdon-on-Thames, United Kingdom are 51.6714842, -1.2779715.\n"
     ]
    }
   ],
   "source": [
    "address = 'Abingdon-on-Thames, United Kingdom'\n",
    "geolocator = Nominatim(user_agent=\"abi_explorer\")\n",
    "location = geolocator.geocode(address)\n",
    "latitude = location.latitude\n",
    "longitude = location.longitude\n",
    "print('The geograpical coordinates of Abingdon-on-Thames, United Kingdom are {}, {}.'.format(latitude, longitude))"
   ]
  },
  {
   "cell_type": "markdown",
   "metadata": {},
   "source": [
    "## Methodology<a name=\"methodology\"></a>"
   ]
  },
  {
   "cell_type": "markdown",
   "metadata": {},
   "source": [
    "- [**Exploratory Data Analysis**:](#eda) Visualise the crime repots in different Oxfordshire boroughs to idenity the safest borough and normalise the neighborhoods of that borough. We will Use the resulting data and find 10 most common venues in each neighborhood."
   ]
  },
  {
   "cell_type": "markdown",
   "metadata": {},
   "source": [
    "Filtered and grouped for LSOA to add the number of crimes within each area and obtained a longitude and latitude"
   ]
  },
  {
   "cell_type": "code",
   "execution_count": null,
   "metadata": {},
   "outputs": [],
   "source": []
  },
  {
   "cell_type": "code",
   "execution_count": 13,
   "metadata": {},
   "outputs": [
    {
     "data": {
      "text/html": [
       "<div>\n",
       "<style scoped>\n",
       "    .dataframe tbody tr th:only-of-type {\n",
       "        vertical-align: middle;\n",
       "    }\n",
       "\n",
       "    .dataframe tbody tr th {\n",
       "        vertical-align: top;\n",
       "    }\n",
       "\n",
       "    .dataframe thead th {\n",
       "        text-align: right;\n",
       "    }\n",
       "</style>\n",
       "<table border=\"1\" class=\"dataframe\">\n",
       "  <thead>\n",
       "    <tr style=\"text-align: right;\">\n",
       "      <th></th>\n",
       "      <th>LSOA code</th>\n",
       "      <th>Value</th>\n",
       "      <th>Crime ID</th>\n",
       "      <th>Month</th>\n",
       "      <th>Reported by</th>\n",
       "      <th>Falls within</th>\n",
       "      <th>Longitude</th>\n",
       "      <th>Latitude</th>\n",
       "      <th>Location</th>\n",
       "      <th>LSOA name</th>\n",
       "      <th>Crime type</th>\n",
       "      <th>Count</th>\n",
       "    </tr>\n",
       "  </thead>\n",
       "  <tbody>\n",
       "    <tr>\n",
       "      <th>0</th>\n",
       "      <td>E01028688</td>\n",
       "      <td>34</td>\n",
       "      <td>NaN</td>\n",
       "      <td>2019-08</td>\n",
       "      <td>Thames Valley Police</td>\n",
       "      <td>Thames Valley Police</td>\n",
       "      <td>-1.269892</td>\n",
       "      <td>51.673533</td>\n",
       "      <td>On or near Curtis Avenue</td>\n",
       "      <td>Vale of White Horse 005A</td>\n",
       "      <td>Anti-social behaviour</td>\n",
       "      <td>1</td>\n",
       "    </tr>\n",
       "    <tr>\n",
       "      <th>1</th>\n",
       "      <td>E01028689</td>\n",
       "      <td>108</td>\n",
       "      <td>b4ebf9704f6345bf13bae104f70440a696b3cdca7efa7f...</td>\n",
       "      <td>2019-08</td>\n",
       "      <td>Thames Valley Police</td>\n",
       "      <td>Thames Valley Police</td>\n",
       "      <td>-1.260667</td>\n",
       "      <td>51.675202</td>\n",
       "      <td>On or near Nyatt Road</td>\n",
       "      <td>Vale of White Horse 005B</td>\n",
       "      <td>Bicycle theft</td>\n",
       "      <td>1</td>\n",
       "    </tr>\n",
       "    <tr>\n",
       "      <th>2</th>\n",
       "      <td>E01028690</td>\n",
       "      <td>100</td>\n",
       "      <td>NaN</td>\n",
       "      <td>2019-08</td>\n",
       "      <td>Thames Valley Police</td>\n",
       "      <td>Thames Valley Police</td>\n",
       "      <td>-1.284287</td>\n",
       "      <td>51.661178</td>\n",
       "      <td>On or near Townsend</td>\n",
       "      <td>Vale of White Horse 008A</td>\n",
       "      <td>Anti-social behaviour</td>\n",
       "      <td>1</td>\n",
       "    </tr>\n",
       "    <tr>\n",
       "      <th>3</th>\n",
       "      <td>E01028691</td>\n",
       "      <td>102</td>\n",
       "      <td>17d8923859afa39df21101abe4be0a7cea4c60e3d5e588...</td>\n",
       "      <td>2019-08</td>\n",
       "      <td>Thames Valley Police</td>\n",
       "      <td>Thames Valley Police</td>\n",
       "      <td>-1.289920</td>\n",
       "      <td>51.659692</td>\n",
       "      <td>On or near Pudsey Close</td>\n",
       "      <td>Vale of White Horse 008B</td>\n",
       "      <td>Violence and sexual offences</td>\n",
       "      <td>1</td>\n",
       "    </tr>\n",
       "    <tr>\n",
       "      <th>4</th>\n",
       "      <td>E01028692</td>\n",
       "      <td>130</td>\n",
       "      <td>NaN</td>\n",
       "      <td>2019-08</td>\n",
       "      <td>Thames Valley Police</td>\n",
       "      <td>Thames Valley Police</td>\n",
       "      <td>-1.290685</td>\n",
       "      <td>51.663491</td>\n",
       "      <td>On or near Saxton Road</td>\n",
       "      <td>Vale of White Horse 008C</td>\n",
       "      <td>Anti-social behaviour</td>\n",
       "      <td>1</td>\n",
       "    </tr>\n",
       "  </tbody>\n",
       "</table>\n",
       "</div>"
      ],
      "text/plain": [
       "   LSOA code  Value                                           Crime ID  \\\n",
       "0  E01028688     34                                                NaN   \n",
       "1  E01028689    108  b4ebf9704f6345bf13bae104f70440a696b3cdca7efa7f...   \n",
       "2  E01028690    100                                                NaN   \n",
       "3  E01028691    102  17d8923859afa39df21101abe4be0a7cea4c60e3d5e588...   \n",
       "4  E01028692    130                                                NaN   \n",
       "\n",
       "     Month           Reported by          Falls within  Longitude   Latitude  \\\n",
       "0  2019-08  Thames Valley Police  Thames Valley Police  -1.269892  51.673533   \n",
       "1  2019-08  Thames Valley Police  Thames Valley Police  -1.260667  51.675202   \n",
       "2  2019-08  Thames Valley Police  Thames Valley Police  -1.284287  51.661178   \n",
       "3  2019-08  Thames Valley Police  Thames Valley Police  -1.289920  51.659692   \n",
       "4  2019-08  Thames Valley Police  Thames Valley Police  -1.290685  51.663491   \n",
       "\n",
       "                   Location                 LSOA name  \\\n",
       "0  On or near Curtis Avenue  Vale of White Horse 005A   \n",
       "1     On or near Nyatt Road  Vale of White Horse 005B   \n",
       "2       On or near Townsend  Vale of White Horse 008A   \n",
       "3   On or near Pudsey Close  Vale of White Horse 008B   \n",
       "4    On or near Saxton Road  Vale of White Horse 008C   \n",
       "\n",
       "                     Crime type  Count  \n",
       "0         Anti-social behaviour      1  \n",
       "1                 Bicycle theft      1  \n",
       "2         Anti-social behaviour      1  \n",
       "3  Violence and sexual offences      1  \n",
       "4         Anti-social behaviour      1  "
      ]
     },
     "execution_count": 13,
     "metadata": {},
     "output_type": "execute_result"
    }
   ],
   "source": [
    "Grouped = pd.DataFrame({'Value' : CSV.groupby( ['LSOA code']).size()}).reset_index()\n",
    "#need them as numpy\n",
    "temp1 = Grouped.to_numpy()\n",
    "newdf = pd.DataFrame(data=temp1, index=None, columns=[\"LSOA code\", \"Value\"])\n",
    "#merge right to get back LSOA and one 'central' lat/long so first drop duplicates \n",
    "df3 = CSV.drop_duplicates(subset='LSOA code', keep=\"first\")\n",
    "Temp = newdf.merge(df3, left_on='LSOA code', right_on='LSOA code', how='right')\n",
    "#Temp.drop_duplicates(subset=\"LSOA code\",keep=\"first\", inplace=True)\n",
    "Temp['Latitude'] = Temp['Latitude'].astype(float)\n",
    "Temp['Longitude'] = Temp['Longitude'].astype(float)\n",
    "Temp['Value'] = Temp['Value'].astype(int)\n",
    "Temp.head()"
   ]
  },
  {
   "cell_type": "code",
   "execution_count": 14,
   "metadata": {},
   "outputs": [],
   "source": [
    "#Making a simple table for values as with the Temp the folium wasn't working\n",
    "Mapme = Temp[['Value','Latitude','Longitude']].copy()"
   ]
  },
  {
   "cell_type": "code",
   "execution_count": null,
   "metadata": {},
   "outputs": [],
   "source": []
  }
 ],
 "metadata": {
  "kernelspec": {
   "display_name": "Python 3",
   "language": "python",
   "name": "python3"
  },
  "language_info": {
   "codemirror_mode": {
    "name": "ipython",
    "version": 3
   },
   "file_extension": ".py",
   "mimetype": "text/x-python",
   "name": "python",
   "nbconvert_exporter": "python",
   "pygments_lexer": "ipython3",
   "version": "3.8.3"
  }
 },
 "nbformat": 4,
 "nbformat_minor": 2
}
