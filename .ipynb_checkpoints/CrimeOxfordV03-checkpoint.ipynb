{
 "cells": [
  {
   "cell_type": "code",
   "execution_count": 62,
   "metadata": {},
   "outputs": [],
   "source": [
    "import time\n",
    "import numpy as np  # data vectors\n",
    "import pandas as pd # data analysis\n",
    "from collections import Counter\n",
    "from pandas.io.json import json_normalize # transform json into pandas dataframe\n",
    "import matplotlib.cm as cm #plotting\n",
    "import matplotlib.colors as colors\n",
    "import matplotlib.pyplot as py\n",
    "import json\n",
    "import requests\n",
    "from geopy.geocoders import Nominatim #get lat and long\n",
    "from sklearn.cluster import KMeans #clustering\n",
    "import folium #visualise map\n",
    "import os\n",
    "import geopandas as gpd\n",
    "import earthpy as et\n",
    "from folium.plugins import HeatMap\n",
    "import geopandas\n",
    "import matplotlib.pyplot as plt\n",
    "import matplotlib.lines as mlines\n",
    "from matplotlib.colors import ListedColormap\n",
    "\n",
    "# Load the box module from shapely to create box objects\n",
    "from shapely.geometry import box\n",
    "from shapely.geometry import shape\n",
    "import earthpy as et\n",
    "import seaborn as sns\n",
    "\n",
    "# Ignore warning about missing/empty geometries\n",
    "import warnings\n",
    "warnings.filterwarnings('ignore', 'GeoSeries.notna', UserWarning)\n",
    "\n",
    "# Adjust plot font sizes\n",
    "sns.set(font_scale=1.5)\n",
    "sns.set_style(\"white\")\n"
   ]
  },
  {
   "cell_type": "markdown",
   "metadata": {},
   "source": [
    "### 1.Create Dataframe "
   ]
  },
  {
   "cell_type": "code",
   "execution_count": 3,
   "metadata": {},
   "outputs": [],
   "source": [
    "\n",
    "CSV = pd.read_csv(\"Battle of Neighborhoods/ThamesValleyCRIMEDATA.csv\")\n"
   ]
  },
  {
   "cell_type": "code",
   "execution_count": 4,
   "metadata": {},
   "outputs": [
    {
     "data": {
      "text/html": [
       "<div>\n",
       "<style scoped>\n",
       "    .dataframe tbody tr th:only-of-type {\n",
       "        vertical-align: middle;\n",
       "    }\n",
       "\n",
       "    .dataframe tbody tr th {\n",
       "        vertical-align: top;\n",
       "    }\n",
       "\n",
       "    .dataframe thead th {\n",
       "        text-align: right;\n",
       "    }\n",
       "</style>\n",
       "<table border=\"1\" class=\"dataframe\">\n",
       "  <thead>\n",
       "    <tr style=\"text-align: right;\">\n",
       "      <th></th>\n",
       "      <th>Crime ID</th>\n",
       "      <th>Month</th>\n",
       "      <th>Reported by</th>\n",
       "      <th>Falls within</th>\n",
       "      <th>Longitude</th>\n",
       "      <th>Latitude</th>\n",
       "      <th>Location</th>\n",
       "      <th>LSOA code</th>\n",
       "      <th>LSOA name</th>\n",
       "      <th>Crime type</th>\n",
       "      <th>Count</th>\n",
       "    </tr>\n",
       "  </thead>\n",
       "  <tbody>\n",
       "    <tr>\n",
       "      <th>0</th>\n",
       "      <td>3d294010dbca88ade8b95964f03d79dae86cbece156e32...</td>\n",
       "      <td>2019-08</td>\n",
       "      <td>Thames Valley Police</td>\n",
       "      <td>Thames Valley Police</td>\n",
       "      <td>-1.327884</td>\n",
       "      <td>51.753488</td>\n",
       "      <td>On or near Eynsham Road</td>\n",
       "      <td>E01028708</td>\n",
       "      <td>Vale of White Horse 001A</td>\n",
       "      <td>Violence and sexual offences</td>\n",
       "      <td>1</td>\n",
       "    </tr>\n",
       "    <tr>\n",
       "      <th>1</th>\n",
       "      <td>dbcbf4f976221e1e202c7019f2803f9ba80a8e1c8881d9...</td>\n",
       "      <td>2019-08</td>\n",
       "      <td>Thames Valley Police</td>\n",
       "      <td>Thames Valley Police</td>\n",
       "      <td>-1.308601</td>\n",
       "      <td>51.748808</td>\n",
       "      <td>On or near Third Acre Rise</td>\n",
       "      <td>E01028709</td>\n",
       "      <td>Vale of White Horse 001B</td>\n",
       "      <td>Burglary</td>\n",
       "      <td>1</td>\n",
       "    </tr>\n",
       "    <tr>\n",
       "      <th>2</th>\n",
       "      <td>95569239a93eb375ef1a30f147975303c0aaa322755be2...</td>\n",
       "      <td>2019-08</td>\n",
       "      <td>Thames Valley Police</td>\n",
       "      <td>Thames Valley Police</td>\n",
       "      <td>-1.312464</td>\n",
       "      <td>51.750027</td>\n",
       "      <td>On or near Grange Court</td>\n",
       "      <td>E01028709</td>\n",
       "      <td>Vale of White Horse 001B</td>\n",
       "      <td>Violence and sexual offences</td>\n",
       "      <td>1</td>\n",
       "    </tr>\n",
       "    <tr>\n",
       "      <th>3</th>\n",
       "      <td>cdb82cca5ab21305455295afad2e04a4f2b4b2066d2709...</td>\n",
       "      <td>2019-08</td>\n",
       "      <td>Thames Valley Police</td>\n",
       "      <td>Thames Valley Police</td>\n",
       "      <td>-1.307831</td>\n",
       "      <td>51.741359</td>\n",
       "      <td>On or near Barn Close</td>\n",
       "      <td>E01028710</td>\n",
       "      <td>Vale of White Horse 001C</td>\n",
       "      <td>Other theft</td>\n",
       "      <td>1</td>\n",
       "    </tr>\n",
       "    <tr>\n",
       "      <th>4</th>\n",
       "      <td>f94e1c275753292c47a748c7241c75beb667817009ef96...</td>\n",
       "      <td>2019-08</td>\n",
       "      <td>Thames Valley Police</td>\n",
       "      <td>Thames Valley Police</td>\n",
       "      <td>-1.308480</td>\n",
       "      <td>51.742487</td>\n",
       "      <td>On or near Delamare Way</td>\n",
       "      <td>E01028710</td>\n",
       "      <td>Vale of White Horse 001C</td>\n",
       "      <td>Public order</td>\n",
       "      <td>1</td>\n",
       "    </tr>\n",
       "  </tbody>\n",
       "</table>\n",
       "</div>"
      ],
      "text/plain": [
       "                                            Crime ID    Month  \\\n",
       "0  3d294010dbca88ade8b95964f03d79dae86cbece156e32...  2019-08   \n",
       "1  dbcbf4f976221e1e202c7019f2803f9ba80a8e1c8881d9...  2019-08   \n",
       "2  95569239a93eb375ef1a30f147975303c0aaa322755be2...  2019-08   \n",
       "3  cdb82cca5ab21305455295afad2e04a4f2b4b2066d2709...  2019-08   \n",
       "4  f94e1c275753292c47a748c7241c75beb667817009ef96...  2019-08   \n",
       "\n",
       "            Reported by          Falls within  Longitude   Latitude  \\\n",
       "0  Thames Valley Police  Thames Valley Police  -1.327884  51.753488   \n",
       "1  Thames Valley Police  Thames Valley Police  -1.308601  51.748808   \n",
       "2  Thames Valley Police  Thames Valley Police  -1.312464  51.750027   \n",
       "3  Thames Valley Police  Thames Valley Police  -1.307831  51.741359   \n",
       "4  Thames Valley Police  Thames Valley Police  -1.308480  51.742487   \n",
       "\n",
       "                     Location  LSOA code                 LSOA name  \\\n",
       "0     On or near Eynsham Road  E01028708  Vale of White Horse 001A   \n",
       "1  On or near Third Acre Rise  E01028709  Vale of White Horse 001B   \n",
       "2     On or near Grange Court  E01028709  Vale of White Horse 001B   \n",
       "3       On or near Barn Close  E01028710  Vale of White Horse 001C   \n",
       "4     On or near Delamare Way  E01028710  Vale of White Horse 001C   \n",
       "\n",
       "                     Crime type  Count  \n",
       "0  Violence and sexual offences      1  \n",
       "1                      Burglary      1  \n",
       "2  Violence and sexual offences      1  \n",
       "3                   Other theft      1  \n",
       "4                  Public order      1  "
      ]
     },
     "execution_count": 4,
     "metadata": {},
     "output_type": "execute_result"
    }
   ],
   "source": [
    "CSV.head()\n",
    "#uni"
   ]
  },
  {
   "cell_type": "code",
   "execution_count": 5,
   "metadata": {},
   "outputs": [
    {
     "name": "stdout",
     "output_type": "stream",
     "text": [
      "Vale of White Horse 010C    12\n",
      "Vale of White Horse 002A    12\n",
      "Vale of White Horse 010A     5\n",
      "Vale of White Horse 007A     4\n",
      "Vale of White Horse 001C     3\n",
      "Vale of White Horse 010E     3\n",
      "Name: LSOA name, dtype: int64\n"
     ]
    },
    {
     "data": {
      "text/html": [
       "<div>\n",
       "<style scoped>\n",
       "    .dataframe tbody tr th:only-of-type {\n",
       "        vertical-align: middle;\n",
       "    }\n",
       "\n",
       "    .dataframe tbody tr th {\n",
       "        vertical-align: top;\n",
       "    }\n",
       "\n",
       "    .dataframe thead th {\n",
       "        text-align: right;\n",
       "    }\n",
       "</style>\n",
       "<table border=\"1\" class=\"dataframe\">\n",
       "  <thead>\n",
       "    <tr style=\"text-align: right;\">\n",
       "      <th></th>\n",
       "      <th>Crime ID</th>\n",
       "      <th>Month</th>\n",
       "      <th>Reported by</th>\n",
       "      <th>Falls within</th>\n",
       "      <th>Longitude</th>\n",
       "      <th>Latitude</th>\n",
       "      <th>Location</th>\n",
       "      <th>LSOA code</th>\n",
       "      <th>LSOA name</th>\n",
       "      <th>Crime type</th>\n",
       "      <th>Count</th>\n",
       "    </tr>\n",
       "  </thead>\n",
       "  <tbody>\n",
       "    <tr>\n",
       "      <th>0</th>\n",
       "      <td>f805a544e8187ec1bda841171bd8c93d74f81547d0a1af...</td>\n",
       "      <td>2019-08</td>\n",
       "      <td>Thames Valley Police</td>\n",
       "      <td>Thames Valley Police</td>\n",
       "      <td>-1.254532</td>\n",
       "      <td>51.729093</td>\n",
       "      <td>On or near Abingdon Road</td>\n",
       "      <td>E01028733</td>\n",
       "      <td>Vale of White Horse 002A</td>\n",
       "      <td>Other theft</td>\n",
       "      <td>1</td>\n",
       "    </tr>\n",
       "    <tr>\n",
       "      <th>1</th>\n",
       "      <td>da628637b46f0cad201074d3f587a2c13539999e809fb6...</td>\n",
       "      <td>2019-08</td>\n",
       "      <td>Thames Valley Police</td>\n",
       "      <td>Thames Valley Police</td>\n",
       "      <td>-1.311395</td>\n",
       "      <td>51.647852</td>\n",
       "      <td>On or near Abingdon Road</td>\n",
       "      <td>E01028714</td>\n",
       "      <td>Vale of White Horse 010A</td>\n",
       "      <td>Shoplifting</td>\n",
       "      <td>1</td>\n",
       "    </tr>\n",
       "    <tr>\n",
       "      <th>2</th>\n",
       "      <td>479033dccfaea7ebe19f463b2eb5f6a13a5a6a10ebdf35...</td>\n",
       "      <td>2019-09</td>\n",
       "      <td>Thames Valley Police</td>\n",
       "      <td>Thames Valley Police</td>\n",
       "      <td>-1.370958</td>\n",
       "      <td>51.685321</td>\n",
       "      <td>On or near Abingdon Road</td>\n",
       "      <td>E01028726</td>\n",
       "      <td>Vale of White Horse 007A</td>\n",
       "      <td>Vehicle crime</td>\n",
       "      <td>1</td>\n",
       "    </tr>\n",
       "    <tr>\n",
       "      <th>3</th>\n",
       "      <td>399c4f8e4b309817573c37361155d7a0da30119790b567...</td>\n",
       "      <td>2019-09</td>\n",
       "      <td>Thames Valley Police</td>\n",
       "      <td>Thames Valley Police</td>\n",
       "      <td>-1.370958</td>\n",
       "      <td>51.685321</td>\n",
       "      <td>On or near Abingdon Road</td>\n",
       "      <td>E01028726</td>\n",
       "      <td>Vale of White Horse 007A</td>\n",
       "      <td>Violence and sexual offences</td>\n",
       "      <td>1</td>\n",
       "    </tr>\n",
       "    <tr>\n",
       "      <th>4</th>\n",
       "      <td>b132fe1dd79abda0e48c1c85d170b30253930aeb9bb7ea...</td>\n",
       "      <td>2019-09</td>\n",
       "      <td>Thames Valley Police</td>\n",
       "      <td>Thames Valley Police</td>\n",
       "      <td>-1.310317</td>\n",
       "      <td>51.649321</td>\n",
       "      <td>On or near Abingdon Road</td>\n",
       "      <td>E01028714</td>\n",
       "      <td>Vale of White Horse 010A</td>\n",
       "      <td>Burglary</td>\n",
       "      <td>1</td>\n",
       "    </tr>\n",
       "  </tbody>\n",
       "</table>\n",
       "</div>"
      ],
      "text/plain": [
       "                                            Crime ID    Month  \\\n",
       "0  f805a544e8187ec1bda841171bd8c93d74f81547d0a1af...  2019-08   \n",
       "1  da628637b46f0cad201074d3f587a2c13539999e809fb6...  2019-08   \n",
       "2  479033dccfaea7ebe19f463b2eb5f6a13a5a6a10ebdf35...  2019-09   \n",
       "3  399c4f8e4b309817573c37361155d7a0da30119790b567...  2019-09   \n",
       "4  b132fe1dd79abda0e48c1c85d170b30253930aeb9bb7ea...  2019-09   \n",
       "\n",
       "            Reported by          Falls within  Longitude   Latitude  \\\n",
       "0  Thames Valley Police  Thames Valley Police  -1.254532  51.729093   \n",
       "1  Thames Valley Police  Thames Valley Police  -1.311395  51.647852   \n",
       "2  Thames Valley Police  Thames Valley Police  -1.370958  51.685321   \n",
       "3  Thames Valley Police  Thames Valley Police  -1.370958  51.685321   \n",
       "4  Thames Valley Police  Thames Valley Police  -1.310317  51.649321   \n",
       "\n",
       "                   Location  LSOA code                 LSOA name  \\\n",
       "0  On or near Abingdon Road  E01028733  Vale of White Horse 002A   \n",
       "1  On or near Abingdon Road  E01028714  Vale of White Horse 010A   \n",
       "2  On or near Abingdon Road  E01028726  Vale of White Horse 007A   \n",
       "3  On or near Abingdon Road  E01028726  Vale of White Horse 007A   \n",
       "4  On or near Abingdon Road  E01028714  Vale of White Horse 010A   \n",
       "\n",
       "                     Crime type  Count  \n",
       "0                   Other theft      1  \n",
       "1                   Shoplifting      1  \n",
       "2                 Vehicle crime      1  \n",
       "3  Violence and sexual offences      1  \n",
       "4                      Burglary      1  "
      ]
     },
     "execution_count": 5,
     "metadata": {},
     "output_type": "execute_result"
    }
   ],
   "source": [
    "df_abiC = CSV[CSV['Location'].str.contains('Abingdon')].reset_index(drop=True)\n",
    "print(df_abiC['LSOA name'].value_counts())\n",
    "df_abiC.head()\n"
   ]
  },
  {
   "cell_type": "markdown",
   "metadata": {},
   "source": [
    "#### Use geopy library to get the latitude and longitude values of Abingdon."
   ]
  },
  {
   "cell_type": "markdown",
   "metadata": {},
   "source": [
    "In order to define an instance of the geocoder, we need to define a user_agent. We will name our agent <em>abi_explorer</em>, as shown below."
   ]
  },
  {
   "cell_type": "code",
   "execution_count": 6,
   "metadata": {},
   "outputs": [
    {
     "name": "stdout",
     "output_type": "stream",
     "text": [
      "The geograpical coordinates of Abingdon-on-Thames, United Kingdom are 51.6714842, -1.2779715.\n"
     ]
    }
   ],
   "source": [
    "address = 'Abingdon-on-Thames, United Kingdom'\n",
    "\n",
    "geolocator = Nominatim(user_agent=\"abi_explorer\")\n",
    "location = geolocator.geocode(address)\n",
    "latitude = location.latitude\n",
    "longitude = location.longitude\n",
    "print('The geograpical coordinates of Abingdon-on-Thames, United Kingdom are {}, {}.'.format(latitude, longitude))"
   ]
  },
  {
   "cell_type": "code",
   "execution_count": 7,
   "metadata": {},
   "outputs": [
    {
     "name": "stdout",
     "output_type": "stream",
     "text": [
      "Vale of White Horse 010C    12\n",
      "Vale of White Horse 002A    12\n",
      "Vale of White Horse 010A     5\n",
      "Vale of White Horse 007A     4\n",
      "Vale of White Horse 001C     3\n",
      "Vale of White Horse 010E     3\n",
      "Name: LSOA name, dtype: int64\n"
     ]
    },
    {
     "data": {
      "text/html": [
       "<div>\n",
       "<style scoped>\n",
       "    .dataframe tbody tr th:only-of-type {\n",
       "        vertical-align: middle;\n",
       "    }\n",
       "\n",
       "    .dataframe tbody tr th {\n",
       "        vertical-align: top;\n",
       "    }\n",
       "\n",
       "    .dataframe thead th {\n",
       "        text-align: right;\n",
       "    }\n",
       "</style>\n",
       "<table border=\"1\" class=\"dataframe\">\n",
       "  <thead>\n",
       "    <tr style=\"text-align: right;\">\n",
       "      <th></th>\n",
       "      <th>Crime ID</th>\n",
       "      <th>Month</th>\n",
       "      <th>Reported by</th>\n",
       "      <th>Falls within</th>\n",
       "      <th>Longitude</th>\n",
       "      <th>Latitude</th>\n",
       "      <th>Location</th>\n",
       "      <th>LSOA code</th>\n",
       "      <th>LSOA name</th>\n",
       "      <th>Crime type</th>\n",
       "      <th>Count</th>\n",
       "    </tr>\n",
       "  </thead>\n",
       "  <tbody>\n",
       "    <tr>\n",
       "      <th>0</th>\n",
       "      <td>f805a544e8187ec1bda841171bd8c93d74f81547d0a1af...</td>\n",
       "      <td>2019-08</td>\n",
       "      <td>Thames Valley Police</td>\n",
       "      <td>Thames Valley Police</td>\n",
       "      <td>-1.254532</td>\n",
       "      <td>51.729093</td>\n",
       "      <td>On or near Abingdon Road</td>\n",
       "      <td>E01028733</td>\n",
       "      <td>Vale of White Horse 002A</td>\n",
       "      <td>Other theft</td>\n",
       "      <td>1</td>\n",
       "    </tr>\n",
       "    <tr>\n",
       "      <th>1</th>\n",
       "      <td>da628637b46f0cad201074d3f587a2c13539999e809fb6...</td>\n",
       "      <td>2019-08</td>\n",
       "      <td>Thames Valley Police</td>\n",
       "      <td>Thames Valley Police</td>\n",
       "      <td>-1.311395</td>\n",
       "      <td>51.647852</td>\n",
       "      <td>On or near Abingdon Road</td>\n",
       "      <td>E01028714</td>\n",
       "      <td>Vale of White Horse 010A</td>\n",
       "      <td>Shoplifting</td>\n",
       "      <td>1</td>\n",
       "    </tr>\n",
       "    <tr>\n",
       "      <th>2</th>\n",
       "      <td>479033dccfaea7ebe19f463b2eb5f6a13a5a6a10ebdf35...</td>\n",
       "      <td>2019-09</td>\n",
       "      <td>Thames Valley Police</td>\n",
       "      <td>Thames Valley Police</td>\n",
       "      <td>-1.370958</td>\n",
       "      <td>51.685321</td>\n",
       "      <td>On or near Abingdon Road</td>\n",
       "      <td>E01028726</td>\n",
       "      <td>Vale of White Horse 007A</td>\n",
       "      <td>Vehicle crime</td>\n",
       "      <td>1</td>\n",
       "    </tr>\n",
       "    <tr>\n",
       "      <th>3</th>\n",
       "      <td>399c4f8e4b309817573c37361155d7a0da30119790b567...</td>\n",
       "      <td>2019-09</td>\n",
       "      <td>Thames Valley Police</td>\n",
       "      <td>Thames Valley Police</td>\n",
       "      <td>-1.370958</td>\n",
       "      <td>51.685321</td>\n",
       "      <td>On or near Abingdon Road</td>\n",
       "      <td>E01028726</td>\n",
       "      <td>Vale of White Horse 007A</td>\n",
       "      <td>Violence and sexual offences</td>\n",
       "      <td>1</td>\n",
       "    </tr>\n",
       "    <tr>\n",
       "      <th>4</th>\n",
       "      <td>b132fe1dd79abda0e48c1c85d170b30253930aeb9bb7ea...</td>\n",
       "      <td>2019-09</td>\n",
       "      <td>Thames Valley Police</td>\n",
       "      <td>Thames Valley Police</td>\n",
       "      <td>-1.310317</td>\n",
       "      <td>51.649321</td>\n",
       "      <td>On or near Abingdon Road</td>\n",
       "      <td>E01028714</td>\n",
       "      <td>Vale of White Horse 010A</td>\n",
       "      <td>Burglary</td>\n",
       "      <td>1</td>\n",
       "    </tr>\n",
       "  </tbody>\n",
       "</table>\n",
       "</div>"
      ],
      "text/plain": [
       "                                            Crime ID    Month  \\\n",
       "0  f805a544e8187ec1bda841171bd8c93d74f81547d0a1af...  2019-08   \n",
       "1  da628637b46f0cad201074d3f587a2c13539999e809fb6...  2019-08   \n",
       "2  479033dccfaea7ebe19f463b2eb5f6a13a5a6a10ebdf35...  2019-09   \n",
       "3  399c4f8e4b309817573c37361155d7a0da30119790b567...  2019-09   \n",
       "4  b132fe1dd79abda0e48c1c85d170b30253930aeb9bb7ea...  2019-09   \n",
       "\n",
       "            Reported by          Falls within  Longitude   Latitude  \\\n",
       "0  Thames Valley Police  Thames Valley Police  -1.254532  51.729093   \n",
       "1  Thames Valley Police  Thames Valley Police  -1.311395  51.647852   \n",
       "2  Thames Valley Police  Thames Valley Police  -1.370958  51.685321   \n",
       "3  Thames Valley Police  Thames Valley Police  -1.370958  51.685321   \n",
       "4  Thames Valley Police  Thames Valley Police  -1.310317  51.649321   \n",
       "\n",
       "                   Location  LSOA code                 LSOA name  \\\n",
       "0  On or near Abingdon Road  E01028733  Vale of White Horse 002A   \n",
       "1  On or near Abingdon Road  E01028714  Vale of White Horse 010A   \n",
       "2  On or near Abingdon Road  E01028726  Vale of White Horse 007A   \n",
       "3  On or near Abingdon Road  E01028726  Vale of White Horse 007A   \n",
       "4  On or near Abingdon Road  E01028714  Vale of White Horse 010A   \n",
       "\n",
       "                     Crime type  Count  \n",
       "0                   Other theft      1  \n",
       "1                   Shoplifting      1  \n",
       "2                 Vehicle crime      1  \n",
       "3  Violence and sexual offences      1  \n",
       "4                      Burglary      1  "
      ]
     },
     "execution_count": 7,
     "metadata": {},
     "output_type": "execute_result"
    }
   ],
   "source": [
    "df_abiC = CSV[CSV['Location'].str.contains('Abingdon')].reset_index(drop=True)\n",
    "print(df_abiC['LSOA name'].value_counts())\n",
    "df_abiC.head()"
   ]
  },
  {
   "cell_type": "code",
   "execution_count": 8,
   "metadata": {},
   "outputs": [
    {
     "data": {
      "text/plain": [
       "RangeIndex(start=0, stop=6986, step=1)"
      ]
     },
     "execution_count": 8,
     "metadata": {},
     "output_type": "execute_result"
    }
   ],
   "source": [
    "type(CSV)\n",
    "CSV.index"
   ]
  },
  {
   "cell_type": "code",
   "execution_count": 15,
   "metadata": {},
   "outputs": [],
   "source": [
    "#Don't run - was for grouping by Lat/Long\n",
    "#Grouped = pd.DataFrame({'Value' : CSV.groupby( ['Latitude','Longitude']).size()}).reset_index()\n",
    "\n",
    "\n"
   ]
  },
  {
   "cell_type": "code",
   "execution_count": 9,
   "metadata": {},
   "outputs": [
    {
     "name": "stdout",
     "output_type": "stream",
     "text": [
      "    LSOA code  Value                                           Crime ID  \\\n",
      "0   E01028688     34                                                NaN   \n",
      "1   E01028689    108  b4ebf9704f6345bf13bae104f70440a696b3cdca7efa7f...   \n",
      "2   E01028690    100                                                NaN   \n",
      "3   E01028691    102  17d8923859afa39df21101abe4be0a7cea4c60e3d5e588...   \n",
      "4   E01028692    130                                                NaN   \n",
      "..        ...    ...                                                ...   \n",
      "71  E01028759     45  187997b53b0885076ef776e453a5dcf120ec132ea2ea9f...   \n",
      "72  E01028760     72  62088eb9bee2fb4733a60df60c289ce63d6506d1b92de8...   \n",
      "73  E01028761     34  8f63ac7af0cc1d90fc0eb4d5ded64ae6d656ea21187e1b...   \n",
      "74  E01033305    210                                                NaN   \n",
      "75  E01033306    434                                                NaN   \n",
      "\n",
      "      Month           Reported by          Falls within  Longitude   Latitude  \\\n",
      "0   2019-08  Thames Valley Police  Thames Valley Police  -1.269892  51.673533   \n",
      "1   2019-08  Thames Valley Police  Thames Valley Police  -1.260667  51.675202   \n",
      "2   2019-08  Thames Valley Police  Thames Valley Police  -1.284287  51.661178   \n",
      "3   2019-08  Thames Valley Police  Thames Valley Police  -1.289920  51.659692   \n",
      "4   2019-08  Thames Valley Police  Thames Valley Police  -1.290685  51.663491   \n",
      "..      ...                   ...                   ...        ...        ...   \n",
      "71  2019-10  Thames Valley Police  Thames Valley Police  -1.435313  51.589899   \n",
      "72  2019-08  Thames Valley Police  Thames Valley Police  -1.427442  51.594824   \n",
      "73  2019-10  Thames Valley Police  Thames Valley Police  -1.425845  51.595508   \n",
      "74  2019-08  Thames Valley Police  Thames Valley Police  -1.275536  51.672336   \n",
      "75  2019-08  Thames Valley Police  Thames Valley Police  -1.280867  51.673610   \n",
      "\n",
      "                       Location                 LSOA name  \\\n",
      "0      On or near Curtis Avenue  Vale of White Horse 005A   \n",
      "1         On or near Nyatt Road  Vale of White Horse 005B   \n",
      "2           On or near Townsend  Vale of White Horse 008A   \n",
      "3       On or near Pudsey Close  Vale of White Horse 008B   \n",
      "4        On or near Saxton Road  Vale of White Horse 008C   \n",
      "..                          ...                       ...   \n",
      "71  On or near Leverton Gardens  Vale of White Horse 014D   \n",
      "72      On or near Fawley Close  Vale of White Horse 014E   \n",
      "73   On or near Worthington Way  Vale of White Horse 014F   \n",
      "74       On or near Thames View  Vale of White Horse 006G   \n",
      "75         On or near The Motte  Vale of White Horse 006H   \n",
      "\n",
      "                      Crime type  Count  \n",
      "0          Anti-social behaviour      1  \n",
      "1                  Bicycle theft      1  \n",
      "2          Anti-social behaviour      1  \n",
      "3   Violence and sexual offences      1  \n",
      "4          Anti-social behaviour      1  \n",
      "..                           ...    ...  \n",
      "71     Criminal damage and arson      1  \n",
      "72                   Other theft      1  \n",
      "73                      Burglary      1  \n",
      "74         Anti-social behaviour      1  \n",
      "75         Anti-social behaviour      1  \n",
      "\n",
      "[76 rows x 12 columns]\n"
     ]
    }
   ],
   "source": [
    "#use only for LSOA grouping\n",
    "Grouped = pd.DataFrame({'Value' : CSV.groupby( ['LSOA code']).size()}).reset_index()\n",
    "\n",
    "temp1 = Grouped.to_numpy()\n",
    "\n",
    "newdf = pd.DataFrame(data=temp1, index=None, columns=[\"LSOA code\", \"Value\"])\n",
    "\n",
    "#print(newdf)\n",
    "#merge right to get back LSOA and one 'central' lat/long  \n",
    "\n",
    "df3 = CSV.drop_duplicates(subset='LSOA code', keep=\"first\")\n",
    "\n",
    "\n",
    "#newdf.insert(2, 'Latitude', newdf['LSOA code'].map(df_abiC.set_index('LSOA code')['Latitude']))\n",
    "Temp = newdf.merge(df3, left_on='LSOA code', right_on='LSOA code', how='right')\n",
    "\n",
    "\n",
    "#Temp.drop_duplicates(subset=\"LSOA code\",keep=\"first\", inplace=True)\n",
    "Temp['Latitude'] = Temp['Latitude'].astype(float)\n",
    "Temp['Longitude'] = Temp['Longitude'].astype(float)\n",
    "Temp['Value'] = Temp['Value'].astype(int)\n",
    "\n",
    "print(Temp)\n",
    "\n"
   ]
  },
  {
   "cell_type": "code",
   "execution_count": 10,
   "metadata": {},
   "outputs": [],
   "source": [
    "#Making a simple table for values as with the Temp the folium wasn't working\n",
    "Mapme = Temp[['Value','Latitude','Longitude']].copy()\n",
    "#print(Mapme)\n"
   ]
  },
  {
   "cell_type": "markdown",
   "metadata": {},
   "source": [
    " Generate maps to visualize the neighborhood of interest and how they cluster together"
   ]
  },
  {
   "cell_type": "code",
   "execution_count": 11,
   "metadata": {},
   "outputs": [
    {
     "data": {
      "text/html": [
       "<div>\n",
       "<style scoped>\n",
       "    .dataframe tbody tr th:only-of-type {\n",
       "        vertical-align: middle;\n",
       "    }\n",
       "\n",
       "    .dataframe tbody tr th {\n",
       "        vertical-align: top;\n",
       "    }\n",
       "\n",
       "    .dataframe thead th {\n",
       "        text-align: right;\n",
       "    }\n",
       "</style>\n",
       "<table border=\"1\" class=\"dataframe\">\n",
       "  <thead>\n",
       "    <tr style=\"text-align: right;\">\n",
       "      <th></th>\n",
       "      <th>Name</th>\n",
       "      <th>description</th>\n",
       "      <th>geometry</th>\n",
       "    </tr>\n",
       "  </thead>\n",
       "  <tbody>\n",
       "    <tr>\n",
       "      <th>0</th>\n",
       "      <td>None</td>\n",
       "      <td>None</td>\n",
       "      <td>MULTIPOLYGON (((-0.55349 51.72837, -0.55361 51...</td>\n",
       "    </tr>\n",
       "  </tbody>\n",
       "</table>\n",
       "</div>"
      ],
      "text/plain": [
       "   Name description                                           geometry\n",
       "0  None        None  MULTIPOLYGON (((-0.55349 51.72837, -0.55361 51..."
      ]
     },
     "execution_count": 11,
     "metadata": {},
     "output_type": "execute_result"
    }
   ],
   "source": [
    "#boundary_json = json.load(open('thames-valley.geojson'))\n",
    "\n",
    "boundary_json = os.path.join(\"Battle of Neighborhoods\", \"thames-valley.geojson\")\n",
    "\n",
    "boundary = gpd.read_file(boundary_json)\n",
    "\n",
    "boundary.head()"
   ]
  },
  {
   "cell_type": "code",
   "execution_count": 12,
   "metadata": {},
   "outputs": [
    {
     "data": {
      "text/html": [
       "<div>\n",
       "<style scoped>\n",
       "    .dataframe tbody tr th:only-of-type {\n",
       "        vertical-align: middle;\n",
       "    }\n",
       "\n",
       "    .dataframe tbody tr th {\n",
       "        vertical-align: top;\n",
       "    }\n",
       "\n",
       "    .dataframe thead th {\n",
       "        text-align: right;\n",
       "    }\n",
       "</style>\n",
       "<table border=\"1\" class=\"dataframe\">\n",
       "  <thead>\n",
       "    <tr style=\"text-align: right;\">\n",
       "      <th></th>\n",
       "      <th>name</th>\n",
       "      <th>geometry</th>\n",
       "    </tr>\n",
       "  </thead>\n",
       "  <tbody>\n",
       "    <tr>\n",
       "      <th>0</th>\n",
       "      <td>AB10 1</td>\n",
       "      <td>POLYGON ((-2.11645 57.14656, -2.11655 57.14663...</td>\n",
       "    </tr>\n",
       "    <tr>\n",
       "      <th>1</th>\n",
       "      <td>AB10 6</td>\n",
       "      <td>MULTIPOLYGON (((-2.12239 57.12887, -2.12279 57...</td>\n",
       "    </tr>\n",
       "    <tr>\n",
       "      <th>2</th>\n",
       "      <td>AB10 7</td>\n",
       "      <td>POLYGON ((-2.12239 57.12887, -2.12119 57.12972...</td>\n",
       "    </tr>\n",
       "    <tr>\n",
       "      <th>3</th>\n",
       "      <td>AB11 5</td>\n",
       "      <td>POLYGON ((-2.05528 57.14547, -2.05841 57.14103...</td>\n",
       "    </tr>\n",
       "    <tr>\n",
       "      <th>4</th>\n",
       "      <td>AB11 6</td>\n",
       "      <td>POLYGON ((-2.09818 57.13769, -2.09803 57.13852...</td>\n",
       "    </tr>\n",
       "  </tbody>\n",
       "</table>\n",
       "</div>"
      ],
      "text/plain": [
       "     name                                           geometry\n",
       "0  AB10 1  POLYGON ((-2.11645 57.14656, -2.11655 57.14663...\n",
       "1  AB10 6  MULTIPOLYGON (((-2.12239 57.12887, -2.12279 57...\n",
       "2  AB10 7  POLYGON ((-2.12239 57.12887, -2.12119 57.12972...\n",
       "3  AB11 5  POLYGON ((-2.05528 57.14547, -2.05841 57.14103...\n",
       "4  AB11 6  POLYGON ((-2.09818 57.13769, -2.09803 57.13852..."
      ]
     },
     "execution_count": 12,
     "metadata": {},
     "output_type": "execute_result"
    }
   ],
   "source": [
    "abi_plot_locations_path = os.path.join(\"Battle of Neighborhoods\", \"Sectors.shp\")\n",
    "\n",
    "abi_plot_locations = gpd.read_file(abi_plot_locations_path)\n",
    "\n",
    "abi_plot_locations.head()"
   ]
  },
  {
   "cell_type": "markdown",
   "metadata": {},
   "source": [
    "# Now we are going to get data from FourSquare"
   ]
  },
  {
   "cell_type": "code",
   "execution_count": null,
   "metadata": {},
   "outputs": [],
   "source": []
  },
  {
   "cell_type": "code",
   "execution_count": 13,
   "metadata": {},
   "outputs": [
    {
     "name": "stdout",
     "output_type": "stream",
     "text": [
      "Your credentails:\n",
      "CLIENT_ID: GOI03BVANIMQZ54ZM0T5XJTFQSHWG43CDOWVLGVKDZFRXMUA\n",
      "CLIENT_SECRET:G5CADWKCNYVXYY54Z1ARDUINRHBAKSCAHFCV3HMPH00BVUZH\n"
     ]
    }
   ],
   "source": [
    "CLIENT_ID = 'GOI03BVANIMQZ54ZM0T5XJTFQSHWG43CDOWVLGVKDZFRXMUA' # your Foursquare ID\n",
    "CLIENT_SECRET = 'G5CADWKCNYVXYY54Z1ARDUINRHBAKSCAHFCV3HMPH00BVUZH' # your Foursquare Secret\n",
    "VERSION = '20180604' # Foursquare API version\n",
    "LIMIT = 100 # A default Foursquare API limit value\n",
    "\n",
    "print('Your credentails:')\n",
    "print('CLIENT_ID: ' + CLIENT_ID)\n",
    "print('CLIENT_SECRET:' + CLIENT_SECRET)"
   ]
  },
  {
   "cell_type": "markdown",
   "metadata": {},
   "source": [
    "#### Define Foursquare Credentials and Version"
   ]
  },
  {
   "cell_type": "code",
   "execution_count": 14,
   "metadata": {},
   "outputs": [
    {
     "data": {
      "text/plain": [
       "'Vale of White Horse 002A'"
      ]
     },
     "execution_count": 14,
     "metadata": {},
     "output_type": "execute_result"
    }
   ],
   "source": [
    "df_abiC.loc[0, 'LSOA name']"
   ]
  },
  {
   "cell_type": "code",
   "execution_count": 15,
   "metadata": {},
   "outputs": [
    {
     "name": "stdout",
     "output_type": "stream",
     "text": [
      "Latitude and longitude values of Abingdon-on-Thames are 51.6714842, -1.2779715.\n"
     ]
    }
   ],
   "source": [
    "#neighborhood_latitude = df_abiC.loc[0, 'Latitude'] # neighborhood latitude value\n",
    "#neighborhood_longitude = df_abiC.loc[0, 'Longitude'] # neighborhood longitude value\n",
    "\n",
    "neighborhood_latitude = 51.6714842 # neighborhood latitude value\n",
    "neighborhood_longitude = -1.2779715 # neighborhood longitude value\n",
    "\n",
    "\n",
    "neighborhood_name = 'Abingdon-on-Thames' # neighborhood name\n",
    "\n",
    "print('Latitude and longitude values of {} are {}, {}.'.format(neighborhood_name, \n",
    "                                                               neighborhood_latitude, \n",
    "                                                               neighborhood_longitude))"
   ]
  },
  {
   "cell_type": "code",
   "execution_count": 16,
   "metadata": {},
   "outputs": [
    {
     "data": {
      "text/plain": [
       "'https://api.foursquare.com/v2/venues/explore?&client_id=GOI03BVANIMQZ54ZM0T5XJTFQSHWG43CDOWVLGVKDZFRXMUA&client_secret=G5CADWKCNYVXYY54Z1ARDUINRHBAKSCAHFCV3HMPH00BVUZH&v=20180604&ll=51.6714842,-1.2779715&radius=1000&limit=100'"
      ]
     },
     "execution_count": 16,
     "metadata": {},
     "output_type": "execute_result"
    }
   ],
   "source": [
    "LIMIT = 100 # limit of number of venues returned by Foursquare API\n",
    "radius = 1000 # define radius\n",
    " # create URL\n",
    "url = 'https://api.foursquare.com/v2/venues/explore?&client_id={}&client_secret={}&v={}&ll={},{}&radius={}&limit={}'.format(\n",
    "    CLIENT_ID, \n",
    "    CLIENT_SECRET, \n",
    "    VERSION, \n",
    "    neighborhood_latitude, \n",
    "    neighborhood_longitude, \n",
    "    radius, \n",
    "    LIMIT)\n",
    "url # display URL"
   ]
  },
  {
   "cell_type": "code",
   "execution_count": 17,
   "metadata": {},
   "outputs": [],
   "source": [
    "results = requests.get(url).json()\n",
    "#results"
   ]
  },
  {
   "cell_type": "code",
   "execution_count": 66,
   "metadata": {},
   "outputs": [
    {
     "ename": "JSONDecodeError",
     "evalue": "Expecting value: line 1 column 1 (char 0)",
     "output_type": "error",
     "traceback": [
      "\u001b[0;31m---------------------------------------------------------------------------\u001b[0m",
      "\u001b[0;31mJSONDecodeError\u001b[0m                           Traceback (most recent call last)",
      "\u001b[0;32m<ipython-input-66-9c6c96cea267>\u001b[0m in \u001b[0;36m<module>\u001b[0;34m\u001b[0m\n\u001b[1;32m      1\u001b[0m \u001b[0moxfshire\u001b[0m\u001b[0;34m=\u001b[0m\u001b[0;34m'http://purl.stanford.edu/mm035md9576'\u001b[0m\u001b[0;34m\u001b[0m\u001b[0;34m\u001b[0m\u001b[0m\n\u001b[0;32m----> 2\u001b[0;31m \u001b[0malloxf\u001b[0m \u001b[0;34m=\u001b[0m \u001b[0mrequests\u001b[0m\u001b[0;34m.\u001b[0m\u001b[0mget\u001b[0m\u001b[0;34m(\u001b[0m\u001b[0moxfshire\u001b[0m\u001b[0;34m)\u001b[0m\u001b[0;34m.\u001b[0m\u001b[0mjson\u001b[0m\u001b[0;34m(\u001b[0m\u001b[0;34m)\u001b[0m\u001b[0;34m\u001b[0m\u001b[0;34m\u001b[0m\u001b[0m\n\u001b[0m",
      "\u001b[0;32m~/opt/anaconda3/lib/python3.8/site-packages/requests/models.py\u001b[0m in \u001b[0;36mjson\u001b[0;34m(self, **kwargs)\u001b[0m\n\u001b[1;32m    896\u001b[0m                     \u001b[0;31m# used.\u001b[0m\u001b[0;34m\u001b[0m\u001b[0;34m\u001b[0m\u001b[0;34m\u001b[0m\u001b[0m\n\u001b[1;32m    897\u001b[0m                     \u001b[0;32mpass\u001b[0m\u001b[0;34m\u001b[0m\u001b[0;34m\u001b[0m\u001b[0m\n\u001b[0;32m--> 898\u001b[0;31m         \u001b[0;32mreturn\u001b[0m \u001b[0mcomplexjson\u001b[0m\u001b[0;34m.\u001b[0m\u001b[0mloads\u001b[0m\u001b[0;34m(\u001b[0m\u001b[0mself\u001b[0m\u001b[0;34m.\u001b[0m\u001b[0mtext\u001b[0m\u001b[0;34m,\u001b[0m \u001b[0;34m**\u001b[0m\u001b[0mkwargs\u001b[0m\u001b[0;34m)\u001b[0m\u001b[0;34m\u001b[0m\u001b[0;34m\u001b[0m\u001b[0m\n\u001b[0m\u001b[1;32m    899\u001b[0m \u001b[0;34m\u001b[0m\u001b[0m\n\u001b[1;32m    900\u001b[0m     \u001b[0;34m@\u001b[0m\u001b[0mproperty\u001b[0m\u001b[0;34m\u001b[0m\u001b[0;34m\u001b[0m\u001b[0m\n",
      "\u001b[0;32m~/opt/anaconda3/lib/python3.8/site-packages/simplejson/__init__.py\u001b[0m in \u001b[0;36mloads\u001b[0;34m(s, encoding, cls, object_hook, parse_float, parse_int, parse_constant, object_pairs_hook, use_decimal, **kw)\u001b[0m\n\u001b[1;32m    523\u001b[0m             \u001b[0mparse_constant\u001b[0m \u001b[0;32mis\u001b[0m \u001b[0;32mNone\u001b[0m \u001b[0;32mand\u001b[0m \u001b[0mobject_pairs_hook\u001b[0m \u001b[0;32mis\u001b[0m \u001b[0;32mNone\u001b[0m\u001b[0;34m\u001b[0m\u001b[0;34m\u001b[0m\u001b[0m\n\u001b[1;32m    524\u001b[0m             and not use_decimal and not kw):\n\u001b[0;32m--> 525\u001b[0;31m         \u001b[0;32mreturn\u001b[0m \u001b[0m_default_decoder\u001b[0m\u001b[0;34m.\u001b[0m\u001b[0mdecode\u001b[0m\u001b[0;34m(\u001b[0m\u001b[0ms\u001b[0m\u001b[0;34m)\u001b[0m\u001b[0;34m\u001b[0m\u001b[0;34m\u001b[0m\u001b[0m\n\u001b[0m\u001b[1;32m    526\u001b[0m     \u001b[0;32mif\u001b[0m \u001b[0mcls\u001b[0m \u001b[0;32mis\u001b[0m \u001b[0;32mNone\u001b[0m\u001b[0;34m:\u001b[0m\u001b[0;34m\u001b[0m\u001b[0;34m\u001b[0m\u001b[0m\n\u001b[1;32m    527\u001b[0m         \u001b[0mcls\u001b[0m \u001b[0;34m=\u001b[0m \u001b[0mJSONDecoder\u001b[0m\u001b[0;34m\u001b[0m\u001b[0;34m\u001b[0m\u001b[0m\n",
      "\u001b[0;32m~/opt/anaconda3/lib/python3.8/site-packages/simplejson/decoder.py\u001b[0m in \u001b[0;36mdecode\u001b[0;34m(self, s, _w, _PY3)\u001b[0m\n\u001b[1;32m    368\u001b[0m         \u001b[0;32mif\u001b[0m \u001b[0m_PY3\u001b[0m \u001b[0;32mand\u001b[0m \u001b[0misinstance\u001b[0m\u001b[0;34m(\u001b[0m\u001b[0ms\u001b[0m\u001b[0;34m,\u001b[0m \u001b[0mbytes\u001b[0m\u001b[0;34m)\u001b[0m\u001b[0;34m:\u001b[0m\u001b[0;34m\u001b[0m\u001b[0;34m\u001b[0m\u001b[0m\n\u001b[1;32m    369\u001b[0m             \u001b[0ms\u001b[0m \u001b[0;34m=\u001b[0m \u001b[0mstr\u001b[0m\u001b[0;34m(\u001b[0m\u001b[0ms\u001b[0m\u001b[0;34m,\u001b[0m \u001b[0mself\u001b[0m\u001b[0;34m.\u001b[0m\u001b[0mencoding\u001b[0m\u001b[0;34m)\u001b[0m\u001b[0;34m\u001b[0m\u001b[0;34m\u001b[0m\u001b[0m\n\u001b[0;32m--> 370\u001b[0;31m         \u001b[0mobj\u001b[0m\u001b[0;34m,\u001b[0m \u001b[0mend\u001b[0m \u001b[0;34m=\u001b[0m \u001b[0mself\u001b[0m\u001b[0;34m.\u001b[0m\u001b[0mraw_decode\u001b[0m\u001b[0;34m(\u001b[0m\u001b[0ms\u001b[0m\u001b[0;34m)\u001b[0m\u001b[0;34m\u001b[0m\u001b[0;34m\u001b[0m\u001b[0m\n\u001b[0m\u001b[1;32m    371\u001b[0m         \u001b[0mend\u001b[0m \u001b[0;34m=\u001b[0m \u001b[0m_w\u001b[0m\u001b[0;34m(\u001b[0m\u001b[0ms\u001b[0m\u001b[0;34m,\u001b[0m \u001b[0mend\u001b[0m\u001b[0;34m)\u001b[0m\u001b[0;34m.\u001b[0m\u001b[0mend\u001b[0m\u001b[0;34m(\u001b[0m\u001b[0;34m)\u001b[0m\u001b[0;34m\u001b[0m\u001b[0;34m\u001b[0m\u001b[0m\n\u001b[1;32m    372\u001b[0m         \u001b[0;32mif\u001b[0m \u001b[0mend\u001b[0m \u001b[0;34m!=\u001b[0m \u001b[0mlen\u001b[0m\u001b[0;34m(\u001b[0m\u001b[0ms\u001b[0m\u001b[0;34m)\u001b[0m\u001b[0;34m:\u001b[0m\u001b[0;34m\u001b[0m\u001b[0;34m\u001b[0m\u001b[0m\n",
      "\u001b[0;32m~/opt/anaconda3/lib/python3.8/site-packages/simplejson/decoder.py\u001b[0m in \u001b[0;36mraw_decode\u001b[0;34m(self, s, idx, _w, _PY3)\u001b[0m\n\u001b[1;32m    398\u001b[0m             \u001b[0;32melif\u001b[0m \u001b[0mord0\u001b[0m \u001b[0;34m==\u001b[0m \u001b[0;36m0xef\u001b[0m \u001b[0;32mand\u001b[0m \u001b[0ms\u001b[0m\u001b[0;34m[\u001b[0m\u001b[0midx\u001b[0m\u001b[0;34m:\u001b[0m\u001b[0midx\u001b[0m \u001b[0;34m+\u001b[0m \u001b[0;36m3\u001b[0m\u001b[0;34m]\u001b[0m \u001b[0;34m==\u001b[0m \u001b[0;34m'\\xef\\xbb\\xbf'\u001b[0m\u001b[0;34m:\u001b[0m\u001b[0;34m\u001b[0m\u001b[0;34m\u001b[0m\u001b[0m\n\u001b[1;32m    399\u001b[0m                 \u001b[0midx\u001b[0m \u001b[0;34m+=\u001b[0m \u001b[0;36m3\u001b[0m\u001b[0;34m\u001b[0m\u001b[0;34m\u001b[0m\u001b[0m\n\u001b[0;32m--> 400\u001b[0;31m         \u001b[0;32mreturn\u001b[0m \u001b[0mself\u001b[0m\u001b[0;34m.\u001b[0m\u001b[0mscan_once\u001b[0m\u001b[0;34m(\u001b[0m\u001b[0ms\u001b[0m\u001b[0;34m,\u001b[0m \u001b[0midx\u001b[0m\u001b[0;34m=\u001b[0m\u001b[0m_w\u001b[0m\u001b[0;34m(\u001b[0m\u001b[0ms\u001b[0m\u001b[0;34m,\u001b[0m \u001b[0midx\u001b[0m\u001b[0;34m)\u001b[0m\u001b[0;34m.\u001b[0m\u001b[0mend\u001b[0m\u001b[0;34m(\u001b[0m\u001b[0;34m)\u001b[0m\u001b[0;34m)\u001b[0m\u001b[0;34m\u001b[0m\u001b[0;34m\u001b[0m\u001b[0m\n\u001b[0m",
      "\u001b[0;31mJSONDecodeError\u001b[0m: Expecting value: line 1 column 1 (char 0)"
     ]
    }
   ],
   "source": [
    "oxfshire='http://purl.stanford.edu/mm035md9576'\n",
    "alloxf = requests.get(oxfshire).json()\n",
    "\n",
    "\n",
    "data = requests.get(\"https://data.cityofnewyork.us/api/geospatial/arq3-7z49?method=export&format=GeoJSON\")\n",
    "gdf = gpd.GeoDataFrame(data.json())\n",
    "gdf.head()"
   ]
  },
  {
   "cell_type": "code",
   "execution_count": 18,
   "metadata": {},
   "outputs": [],
   "source": [
    "# function that extracts the category of the venue from Foursqure json response\n",
    "def get_category_type(row):\n",
    "    try:\n",
    "        categories_list = row['categories']\n",
    "    except:\n",
    "        categories_list = row['venue.categories']\n",
    "        \n",
    "    if len(categories_list) == 0:\n",
    "        return None\n",
    "    else:\n",
    "        return categories_list[0]['name']"
   ]
  },
  {
   "cell_type": "code",
   "execution_count": 19,
   "metadata": {},
   "outputs": [
    {
     "data": {
      "text/html": [
       "<div>\n",
       "<style scoped>\n",
       "    .dataframe tbody tr th:only-of-type {\n",
       "        vertical-align: middle;\n",
       "    }\n",
       "\n",
       "    .dataframe tbody tr th {\n",
       "        vertical-align: top;\n",
       "    }\n",
       "\n",
       "    .dataframe thead th {\n",
       "        text-align: right;\n",
       "    }\n",
       "</style>\n",
       "<table border=\"1\" class=\"dataframe\">\n",
       "  <thead>\n",
       "    <tr style=\"text-align: right;\">\n",
       "      <th></th>\n",
       "      <th>name</th>\n",
       "      <th>categories</th>\n",
       "      <th>lat</th>\n",
       "      <th>lng</th>\n",
       "    </tr>\n",
       "  </thead>\n",
       "  <tbody>\n",
       "    <tr>\n",
       "      <th>0</th>\n",
       "      <td>Crown and Thistle</td>\n",
       "      <td>Pub</td>\n",
       "      <td>51.669604</td>\n",
       "      <td>-1.280457</td>\n",
       "    </tr>\n",
       "    <tr>\n",
       "      <th>1</th>\n",
       "      <td>The Nags Head</td>\n",
       "      <td>Pub</td>\n",
       "      <td>51.668649</td>\n",
       "      <td>-1.279253</td>\n",
       "    </tr>\n",
       "    <tr>\n",
       "      <th>2</th>\n",
       "      <td>Costa Coffee</td>\n",
       "      <td>Coffee Shop</td>\n",
       "      <td>51.670426</td>\n",
       "      <td>-1.281812</td>\n",
       "    </tr>\n",
       "    <tr>\n",
       "      <th>3</th>\n",
       "      <td>The Broad Face</td>\n",
       "      <td>Pub</td>\n",
       "      <td>51.669315</td>\n",
       "      <td>-1.280289</td>\n",
       "    </tr>\n",
       "    <tr>\n",
       "      <th>4</th>\n",
       "      <td>Chaba</td>\n",
       "      <td>Thai Restaurant</td>\n",
       "      <td>51.670013</td>\n",
       "      <td>-1.283104</td>\n",
       "    </tr>\n",
       "  </tbody>\n",
       "</table>\n",
       "</div>"
      ],
      "text/plain": [
       "                name       categories        lat       lng\n",
       "0  Crown and Thistle              Pub  51.669604 -1.280457\n",
       "1      The Nags Head              Pub  51.668649 -1.279253\n",
       "2       Costa Coffee      Coffee Shop  51.670426 -1.281812\n",
       "3     The Broad Face              Pub  51.669315 -1.280289\n",
       "4              Chaba  Thai Restaurant  51.670013 -1.283104"
      ]
     },
     "execution_count": 19,
     "metadata": {},
     "output_type": "execute_result"
    }
   ],
   "source": [
    "venues = results['response']['groups'][0]['items']\n",
    "    \n",
    "nearby_venues = json_normalize(venues) # flatten JSON\n",
    "\n",
    "# filter columns\n",
    "filtered_columns = ['venue.name', 'venue.categories', 'venue.location.lat', 'venue.location.lng']\n",
    "nearby_venues =nearby_venues.loc[:, filtered_columns]\n",
    "\n",
    "# filter the category for each row\n",
    "nearby_venues['venue.categories'] = nearby_venues.apply(get_category_type, axis=1)\n",
    "\n",
    "# clean columns\n",
    "nearby_venues.columns = [col.split(\".\")[-1] for col in nearby_venues.columns]\n",
    "\n",
    "nearby_venues.head()"
   ]
  },
  {
   "cell_type": "code",
   "execution_count": 20,
   "metadata": {},
   "outputs": [
    {
     "name": "stdout",
     "output_type": "stream",
     "text": [
      "24 venues were returned by Foursquare.\n"
     ]
    }
   ],
   "source": [
    "print('{} venues were returned by Foursquare.'.format(nearby_venues.shape[0]))"
   ]
  },
  {
   "cell_type": "code",
   "execution_count": 29,
   "metadata": {},
   "outputs": [
    {
     "data": {
      "text/html": [
       "<div>\n",
       "<style scoped>\n",
       "    .dataframe tbody tr th:only-of-type {\n",
       "        vertical-align: middle;\n",
       "    }\n",
       "\n",
       "    .dataframe tbody tr th {\n",
       "        vertical-align: top;\n",
       "    }\n",
       "\n",
       "    .dataframe thead th {\n",
       "        text-align: right;\n",
       "    }\n",
       "</style>\n",
       "<table border=\"1\" class=\"dataframe\">\n",
       "  <thead>\n",
       "    <tr style=\"text-align: right;\">\n",
       "      <th></th>\n",
       "      <th>name</th>\n",
       "      <th>categories</th>\n",
       "      <th>lat</th>\n",
       "      <th>lng</th>\n",
       "      <th>geometry</th>\n",
       "    </tr>\n",
       "  </thead>\n",
       "  <tbody>\n",
       "    <tr>\n",
       "      <th>0</th>\n",
       "      <td>Crown and Thistle</td>\n",
       "      <td>Pub</td>\n",
       "      <td>51.669604</td>\n",
       "      <td>-1.280457</td>\n",
       "      <td>POINT (-1.28046 51.66960)</td>\n",
       "    </tr>\n",
       "    <tr>\n",
       "      <th>1</th>\n",
       "      <td>The Nags Head</td>\n",
       "      <td>Pub</td>\n",
       "      <td>51.668649</td>\n",
       "      <td>-1.279253</td>\n",
       "      <td>POINT (-1.27925 51.66865)</td>\n",
       "    </tr>\n",
       "    <tr>\n",
       "      <th>2</th>\n",
       "      <td>Costa Coffee</td>\n",
       "      <td>Coffee Shop</td>\n",
       "      <td>51.670426</td>\n",
       "      <td>-1.281812</td>\n",
       "      <td>POINT (-1.28181 51.67043)</td>\n",
       "    </tr>\n",
       "    <tr>\n",
       "      <th>3</th>\n",
       "      <td>The Broad Face</td>\n",
       "      <td>Pub</td>\n",
       "      <td>51.669315</td>\n",
       "      <td>-1.280289</td>\n",
       "      <td>POINT (-1.28029 51.66931)</td>\n",
       "    </tr>\n",
       "    <tr>\n",
       "      <th>4</th>\n",
       "      <td>Chaba</td>\n",
       "      <td>Thai Restaurant</td>\n",
       "      <td>51.670013</td>\n",
       "      <td>-1.283104</td>\n",
       "      <td>POINT (-1.28310 51.67001)</td>\n",
       "    </tr>\n",
       "  </tbody>\n",
       "</table>\n",
       "</div>"
      ],
      "text/plain": [
       "                name       categories        lat       lng  \\\n",
       "0  Crown and Thistle              Pub  51.669604 -1.280457   \n",
       "1      The Nags Head              Pub  51.668649 -1.279253   \n",
       "2       Costa Coffee      Coffee Shop  51.670426 -1.281812   \n",
       "3     The Broad Face              Pub  51.669315 -1.280289   \n",
       "4              Chaba  Thai Restaurant  51.670013 -1.283104   \n",
       "\n",
       "                    geometry  \n",
       "0  POINT (-1.28046 51.66960)  \n",
       "1  POINT (-1.27925 51.66865)  \n",
       "2  POINT (-1.28181 51.67043)  \n",
       "3  POINT (-1.28029 51.66931)  \n",
       "4  POINT (-1.28310 51.67001)  "
      ]
     },
     "execution_count": 29,
     "metadata": {},
     "output_type": "execute_result"
    }
   ],
   "source": [
    "\n",
    "\n",
    "NVgdf = geopandas.GeoDataFrame(nearby_venues, geometry=geopandas.points_from_xy(nearby_venues.lng, nearby_venues.lat))\n",
    "\n",
    "NVgdf.head()"
   ]
  },
  {
   "cell_type": "code",
   "execution_count": 65,
   "metadata": {},
   "outputs": [
    {
     "ename": "AttributeError",
     "evalue": "'str' object has no attribute 'head'",
     "output_type": "error",
     "traceback": [
      "\u001b[0;31m---------------------------------------------------------------------------\u001b[0m",
      "\u001b[0;31mAttributeError\u001b[0m                            Traceback (most recent call last)",
      "\u001b[0;32m<ipython-input-65-ed1cf80abd8a>\u001b[0m in \u001b[0;36m<module>\u001b[0;34m\u001b[0m\n\u001b[0;32m----> 1\u001b[0;31m \u001b[0mboundary_json\u001b[0m\u001b[0;34m.\u001b[0m\u001b[0mhead\u001b[0m\u001b[0;34m(\u001b[0m\u001b[0;34m)\u001b[0m\u001b[0;34m\u001b[0m\u001b[0;34m\u001b[0m\u001b[0m\n\u001b[0m",
      "\u001b[0;31mAttributeError\u001b[0m: 'str' object has no attribute 'head'"
     ]
    }
   ],
   "source": [
    "boundary_json.head()"
   ]
  },
  {
   "cell_type": "code",
   "execution_count": 63,
   "metadata": {},
   "outputs": [
    {
     "ename": "TypeError",
     "evalue": "'GeoJson' object is not subscriptable",
     "output_type": "error",
     "traceback": [
      "\u001b[0;31m---------------------------------------------------------------------------\u001b[0m",
      "\u001b[0;31mTypeError\u001b[0m                                 Traceback (most recent call last)",
      "\u001b[0;32m<ipython-input-63-6377190434cd>\u001b[0m in \u001b[0;36m<module>\u001b[0;34m\u001b[0m\n\u001b[1;32m      1\u001b[0m \u001b[0mnta\u001b[0m \u001b[0;34m=\u001b[0m \u001b[0mboundary\u001b[0m\u001b[0;34m\u001b[0m\u001b[0;34m\u001b[0m\u001b[0m\n\u001b[0;32m----> 2\u001b[0;31m \u001b[0mnta\u001b[0m\u001b[0;34m[\u001b[0m\u001b[0;34m'geom'\u001b[0m\u001b[0;34m]\u001b[0m \u001b[0;34m=\u001b[0m \u001b[0mnta\u001b[0m\u001b[0;34m[\u001b[0m\u001b[0;34m'geom'\u001b[0m\u001b[0;34m]\u001b[0m\u001b[0;34m.\u001b[0m\u001b[0mapply\u001b[0m\u001b[0;34m(\u001b[0m\u001b[0mshape\u001b[0m\u001b[0;34m)\u001b[0m\u001b[0;34m\u001b[0m\u001b[0;34m\u001b[0m\u001b[0m\n\u001b[0m\u001b[1;32m      3\u001b[0m \u001b[0mnta_geo\u001b[0m \u001b[0;34m=\u001b[0m \u001b[0mgpd\u001b[0m\u001b[0;34m.\u001b[0m\u001b[0mGeoDataFrame\u001b[0m\u001b[0;34m(\u001b[0m\u001b[0mnta\u001b[0m\u001b[0;34m)\u001b[0m\u001b[0;34m.\u001b[0m\u001b[0mset_geometry\u001b[0m\u001b[0;34m(\u001b[0m\u001b[0;34m'geometry'\u001b[0m\u001b[0;34m)\u001b[0m\u001b[0;34m\u001b[0m\u001b[0;34m\u001b[0m\u001b[0m\n",
      "\u001b[0;31mTypeError\u001b[0m: 'GeoJson' object is not subscriptable"
     ]
    }
   ],
   "source": [
    "\n",
    "nta = boundary\n",
    "nta['geom'] = nta['geom'].apply(shape)\n",
    "nta_geo = gpd.GeoDataFrame(nta).set_geometry('geometry')"
   ]
  },
  {
   "cell_type": "code",
   "execution_count": null,
   "metadata": {},
   "outputs": [],
   "source": []
  },
  {
   "cell_type": "code",
   "execution_count": 55,
   "metadata": {},
   "outputs": [
    {
     "ename": "TypeError",
     "evalue": "'mask' should be GeoDataFrame, GeoSeries or(Multi)Polygon, got <class 'geopandas.geodataframe.GeoDataFrame'>",
     "output_type": "error",
     "traceback": [
      "\u001b[0;31m---------------------------------------------------------------------------\u001b[0m",
      "\u001b[0;31mTypeError\u001b[0m                                 Traceback (most recent call last)",
      "\u001b[0;32m<ipython-input-55-9c65930d7877>\u001b[0m in \u001b[0;36m<module>\u001b[0;34m\u001b[0m\n\u001b[1;32m      2\u001b[0m \u001b[0;31m#Clip.head()\u001b[0m\u001b[0;34m\u001b[0m\u001b[0;34m\u001b[0m\u001b[0;34m\u001b[0m\u001b[0m\n\u001b[1;32m      3\u001b[0m \u001b[0;34m\u001b[0m\u001b[0m\n\u001b[0;32m----> 4\u001b[0;31m \u001b[0mClip2\u001b[0m\u001b[0;34m=\u001b[0m\u001b[0mgpd\u001b[0m\u001b[0;34m.\u001b[0m\u001b[0mclip\u001b[0m\u001b[0;34m(\u001b[0m\u001b[0mabi_plot_locations\u001b[0m\u001b[0;34m,\u001b[0m\u001b[0mboundary_json\u001b[0m\u001b[0;34m)\u001b[0m\u001b[0;34m\u001b[0m\u001b[0;34m\u001b[0m\u001b[0m\n\u001b[0m\u001b[1;32m      5\u001b[0m \u001b[0mClip2\u001b[0m\u001b[0;34m.\u001b[0m\u001b[0mhead\u001b[0m\u001b[0;34m(\u001b[0m\u001b[0;34m)\u001b[0m\u001b[0;34m\u001b[0m\u001b[0;34m\u001b[0m\u001b[0m\n",
      "\u001b[0;32m~/opt/anaconda3/lib/python3.8/site-packages/geopandas/tools/clip.py\u001b[0m in \u001b[0;36mclip\u001b[0;34m(gdf, mask, keep_geom_type)\u001b[0m\n\u001b[1;32m    126\u001b[0m \u001b[0;34m\u001b[0m\u001b[0m\n\u001b[1;32m    127\u001b[0m     \u001b[0;32mif\u001b[0m \u001b[0;32mnot\u001b[0m \u001b[0misinstance\u001b[0m\u001b[0;34m(\u001b[0m\u001b[0mmask\u001b[0m\u001b[0;34m,\u001b[0m \u001b[0;34m(\u001b[0m\u001b[0mGeoDataFrame\u001b[0m\u001b[0;34m,\u001b[0m \u001b[0mGeoSeries\u001b[0m\u001b[0;34m,\u001b[0m \u001b[0mPolygon\u001b[0m\u001b[0;34m,\u001b[0m \u001b[0mMultiPolygon\u001b[0m\u001b[0;34m)\u001b[0m\u001b[0;34m)\u001b[0m\u001b[0;34m:\u001b[0m\u001b[0;34m\u001b[0m\u001b[0;34m\u001b[0m\u001b[0m\n\u001b[0;32m--> 128\u001b[0;31m         raise TypeError(\n\u001b[0m\u001b[1;32m    129\u001b[0m             \u001b[0;34m\"'mask' should be GeoDataFrame, GeoSeries or\"\u001b[0m\u001b[0;34m\u001b[0m\u001b[0;34m\u001b[0m\u001b[0m\n\u001b[1;32m    130\u001b[0m             \u001b[0;34m\"(Multi)Polygon, got {}\"\u001b[0m\u001b[0;34m.\u001b[0m\u001b[0mformat\u001b[0m\u001b[0;34m(\u001b[0m\u001b[0mtype\u001b[0m\u001b[0;34m(\u001b[0m\u001b[0mgdf\u001b[0m\u001b[0;34m)\u001b[0m\u001b[0;34m)\u001b[0m\u001b[0;34m\u001b[0m\u001b[0;34m\u001b[0m\u001b[0m\n",
      "\u001b[0;31mTypeError\u001b[0m: 'mask' should be GeoDataFrame, GeoSeries or(Multi)Polygon, got <class 'geopandas.geodataframe.GeoDataFrame'>"
     ]
    }
   ],
   "source": [
    "#Clip = gpd.clip(NVgdf, boundary)\n",
    "#Clip.head()\n",
    "\n",
    "Clip2=gpd.clip(abi_plot_locations,boundary_json)\n",
    "Clip2.head()"
   ]
  },
  {
   "cell_type": "code",
   "execution_count": 57,
   "metadata": {},
   "outputs": [
    {
     "data": {
      "text/plain": [
       "folium.features.GeoJson"
      ]
     },
     "execution_count": 57,
     "metadata": {},
     "output_type": "execute_result"
    }
   ],
   "source": [
    "type(boundary)"
   ]
  },
  {
   "cell_type": "code",
   "execution_count": 53,
   "metadata": {},
   "outputs": [
    {
     "ename": "NotImplementedError",
     "evalue": "Multi-part geometries do not provide a coordinate sequence",
     "output_type": "error",
     "traceback": [
      "\u001b[0;31m---------------------------------------------------------------------------\u001b[0m",
      "\u001b[0;31mNotImplementedError\u001b[0m                       Traceback (most recent call last)",
      "\u001b[0;32m<ipython-input-53-a6626649be3d>\u001b[0m in \u001b[0;36m<module>\u001b[0;34m\u001b[0m\n\u001b[1;32m     12\u001b[0m \u001b[0mplt\u001b[0m\u001b[0;34m.\u001b[0m\u001b[0maxis\u001b[0m\u001b[0;34m(\u001b[0m\u001b[0;34m'equal'\u001b[0m\u001b[0;34m)\u001b[0m\u001b[0;34m\u001b[0m\u001b[0;34m\u001b[0m\u001b[0m\n\u001b[1;32m     13\u001b[0m \u001b[0;34m\u001b[0m\u001b[0m\n\u001b[0;32m---> 14\u001b[0;31m Clip2.apply(lambda x: ax.annotate(s=x['name'],\n\u001b[0m\u001b[1;32m     15\u001b[0m                                         \u001b[0mxy\u001b[0m\u001b[0;34m=\u001b[0m\u001b[0mx\u001b[0m\u001b[0;34m.\u001b[0m\u001b[0mgeometry\u001b[0m\u001b[0;34m.\u001b[0m\u001b[0mcoords\u001b[0m\u001b[0;34m[\u001b[0m\u001b[0;36m0\u001b[0m\u001b[0;34m]\u001b[0m\u001b[0;34m,\u001b[0m\u001b[0;34m\u001b[0m\u001b[0;34m\u001b[0m\u001b[0m\n\u001b[1;32m     16\u001b[0m                                         \u001b[0mxytext\u001b[0m\u001b[0;34m=\u001b[0m\u001b[0;34m(\u001b[0m\u001b[0;36m6\u001b[0m\u001b[0;34m,\u001b[0m \u001b[0;36m6\u001b[0m\u001b[0;34m)\u001b[0m\u001b[0;34m,\u001b[0m \u001b[0mtextcoords\u001b[0m\u001b[0;34m=\u001b[0m\u001b[0;34m\"offset points\"\u001b[0m\u001b[0;34m,\u001b[0m\u001b[0;34m\u001b[0m\u001b[0;34m\u001b[0m\u001b[0m\n",
      "\u001b[0;32m~/opt/anaconda3/lib/python3.8/site-packages/pandas/core/frame.py\u001b[0m in \u001b[0;36mapply\u001b[0;34m(self, func, axis, raw, result_type, args, **kwds)\u001b[0m\n\u001b[1;32m   6876\u001b[0m             \u001b[0mkwds\u001b[0m\u001b[0;34m=\u001b[0m\u001b[0mkwds\u001b[0m\u001b[0;34m,\u001b[0m\u001b[0;34m\u001b[0m\u001b[0;34m\u001b[0m\u001b[0m\n\u001b[1;32m   6877\u001b[0m         )\n\u001b[0;32m-> 6878\u001b[0;31m         \u001b[0;32mreturn\u001b[0m \u001b[0mop\u001b[0m\u001b[0;34m.\u001b[0m\u001b[0mget_result\u001b[0m\u001b[0;34m(\u001b[0m\u001b[0;34m)\u001b[0m\u001b[0;34m\u001b[0m\u001b[0;34m\u001b[0m\u001b[0m\n\u001b[0m\u001b[1;32m   6879\u001b[0m \u001b[0;34m\u001b[0m\u001b[0m\n\u001b[1;32m   6880\u001b[0m     \u001b[0;32mdef\u001b[0m \u001b[0mapplymap\u001b[0m\u001b[0;34m(\u001b[0m\u001b[0mself\u001b[0m\u001b[0;34m,\u001b[0m \u001b[0mfunc\u001b[0m\u001b[0;34m)\u001b[0m \u001b[0;34m->\u001b[0m \u001b[0;34m\"DataFrame\"\u001b[0m\u001b[0;34m:\u001b[0m\u001b[0;34m\u001b[0m\u001b[0;34m\u001b[0m\u001b[0m\n",
      "\u001b[0;32m~/opt/anaconda3/lib/python3.8/site-packages/pandas/core/apply.py\u001b[0m in \u001b[0;36mget_result\u001b[0;34m(self)\u001b[0m\n\u001b[1;32m    184\u001b[0m             \u001b[0;32mreturn\u001b[0m \u001b[0mself\u001b[0m\u001b[0;34m.\u001b[0m\u001b[0mapply_raw\u001b[0m\u001b[0;34m(\u001b[0m\u001b[0;34m)\u001b[0m\u001b[0;34m\u001b[0m\u001b[0;34m\u001b[0m\u001b[0m\n\u001b[1;32m    185\u001b[0m \u001b[0;34m\u001b[0m\u001b[0m\n\u001b[0;32m--> 186\u001b[0;31m         \u001b[0;32mreturn\u001b[0m \u001b[0mself\u001b[0m\u001b[0;34m.\u001b[0m\u001b[0mapply_standard\u001b[0m\u001b[0;34m(\u001b[0m\u001b[0;34m)\u001b[0m\u001b[0;34m\u001b[0m\u001b[0;34m\u001b[0m\u001b[0m\n\u001b[0m\u001b[1;32m    187\u001b[0m \u001b[0;34m\u001b[0m\u001b[0m\n\u001b[1;32m    188\u001b[0m     \u001b[0;32mdef\u001b[0m \u001b[0mapply_empty_result\u001b[0m\u001b[0;34m(\u001b[0m\u001b[0mself\u001b[0m\u001b[0;34m)\u001b[0m\u001b[0;34m:\u001b[0m\u001b[0;34m\u001b[0m\u001b[0;34m\u001b[0m\u001b[0m\n",
      "\u001b[0;32m~/opt/anaconda3/lib/python3.8/site-packages/pandas/core/apply.py\u001b[0m in \u001b[0;36mapply_standard\u001b[0;34m(self)\u001b[0m\n\u001b[1;32m    311\u001b[0m \u001b[0;34m\u001b[0m\u001b[0m\n\u001b[1;32m    312\u001b[0m         \u001b[0;31m# compute the result using the series generator\u001b[0m\u001b[0;34m\u001b[0m\u001b[0;34m\u001b[0m\u001b[0;34m\u001b[0m\u001b[0m\n\u001b[0;32m--> 313\u001b[0;31m         \u001b[0mresults\u001b[0m\u001b[0;34m,\u001b[0m \u001b[0mres_index\u001b[0m \u001b[0;34m=\u001b[0m \u001b[0mself\u001b[0m\u001b[0;34m.\u001b[0m\u001b[0mapply_series_generator\u001b[0m\u001b[0;34m(\u001b[0m\u001b[0;34m)\u001b[0m\u001b[0;34m\u001b[0m\u001b[0;34m\u001b[0m\u001b[0m\n\u001b[0m\u001b[1;32m    314\u001b[0m \u001b[0;34m\u001b[0m\u001b[0m\n\u001b[1;32m    315\u001b[0m         \u001b[0;31m# wrap results\u001b[0m\u001b[0;34m\u001b[0m\u001b[0;34m\u001b[0m\u001b[0;34m\u001b[0m\u001b[0m\n",
      "\u001b[0;32m~/opt/anaconda3/lib/python3.8/site-packages/pandas/core/apply.py\u001b[0m in \u001b[0;36mapply_series_generator\u001b[0;34m(self)\u001b[0m\n\u001b[1;32m    339\u001b[0m         \u001b[0;32melse\u001b[0m\u001b[0;34m:\u001b[0m\u001b[0;34m\u001b[0m\u001b[0;34m\u001b[0m\u001b[0m\n\u001b[1;32m    340\u001b[0m             \u001b[0;32mfor\u001b[0m \u001b[0mi\u001b[0m\u001b[0;34m,\u001b[0m \u001b[0mv\u001b[0m \u001b[0;32min\u001b[0m \u001b[0menumerate\u001b[0m\u001b[0;34m(\u001b[0m\u001b[0mseries_gen\u001b[0m\u001b[0;34m)\u001b[0m\u001b[0;34m:\u001b[0m\u001b[0;34m\u001b[0m\u001b[0;34m\u001b[0m\u001b[0m\n\u001b[0;32m--> 341\u001b[0;31m                 \u001b[0mresults\u001b[0m\u001b[0;34m[\u001b[0m\u001b[0mi\u001b[0m\u001b[0;34m]\u001b[0m \u001b[0;34m=\u001b[0m \u001b[0mself\u001b[0m\u001b[0;34m.\u001b[0m\u001b[0mf\u001b[0m\u001b[0;34m(\u001b[0m\u001b[0mv\u001b[0m\u001b[0;34m)\u001b[0m\u001b[0;34m\u001b[0m\u001b[0;34m\u001b[0m\u001b[0m\n\u001b[0m\u001b[1;32m    342\u001b[0m                 \u001b[0mkeys\u001b[0m\u001b[0;34m.\u001b[0m\u001b[0mappend\u001b[0m\u001b[0;34m(\u001b[0m\u001b[0mv\u001b[0m\u001b[0;34m.\u001b[0m\u001b[0mname\u001b[0m\u001b[0;34m)\u001b[0m\u001b[0;34m\u001b[0m\u001b[0;34m\u001b[0m\u001b[0m\n\u001b[1;32m    343\u001b[0m \u001b[0;34m\u001b[0m\u001b[0m\n",
      "\u001b[0;32m<ipython-input-53-a6626649be3d>\u001b[0m in \u001b[0;36m<lambda>\u001b[0;34m(x)\u001b[0m\n\u001b[1;32m     13\u001b[0m \u001b[0;34m\u001b[0m\u001b[0m\n\u001b[1;32m     14\u001b[0m Clip2.apply(lambda x: ax.annotate(s=x['name'],\n\u001b[0;32m---> 15\u001b[0;31m                                         \u001b[0mxy\u001b[0m\u001b[0;34m=\u001b[0m\u001b[0mx\u001b[0m\u001b[0;34m.\u001b[0m\u001b[0mgeometry\u001b[0m\u001b[0;34m.\u001b[0m\u001b[0mcoords\u001b[0m\u001b[0;34m[\u001b[0m\u001b[0;36m0\u001b[0m\u001b[0;34m]\u001b[0m\u001b[0;34m,\u001b[0m\u001b[0;34m\u001b[0m\u001b[0;34m\u001b[0m\u001b[0m\n\u001b[0m\u001b[1;32m     16\u001b[0m                                         \u001b[0mxytext\u001b[0m\u001b[0;34m=\u001b[0m\u001b[0;34m(\u001b[0m\u001b[0;36m6\u001b[0m\u001b[0;34m,\u001b[0m \u001b[0;36m6\u001b[0m\u001b[0;34m)\u001b[0m\u001b[0;34m,\u001b[0m \u001b[0mtextcoords\u001b[0m\u001b[0;34m=\u001b[0m\u001b[0;34m\"offset points\"\u001b[0m\u001b[0;34m,\u001b[0m\u001b[0;34m\u001b[0m\u001b[0;34m\u001b[0m\u001b[0m\n\u001b[1;32m     17\u001b[0m                                         backgroundcolor=\"white\"),\n",
      "\u001b[0;32m~/opt/anaconda3/lib/python3.8/site-packages/shapely/geometry/base.py\u001b[0m in \u001b[0;36mcoords\u001b[0;34m(self)\u001b[0m\n\u001b[1;32m    865\u001b[0m     \u001b[0;34m@\u001b[0m\u001b[0mproperty\u001b[0m\u001b[0;34m\u001b[0m\u001b[0;34m\u001b[0m\u001b[0m\n\u001b[1;32m    866\u001b[0m     \u001b[0;32mdef\u001b[0m \u001b[0mcoords\u001b[0m\u001b[0;34m(\u001b[0m\u001b[0mself\u001b[0m\u001b[0;34m)\u001b[0m\u001b[0;34m:\u001b[0m\u001b[0;34m\u001b[0m\u001b[0;34m\u001b[0m\u001b[0m\n\u001b[0;32m--> 867\u001b[0;31m         raise NotImplementedError(\n\u001b[0m\u001b[1;32m    868\u001b[0m             \"Multi-part geometries do not provide a coordinate sequence\")\n\u001b[1;32m    869\u001b[0m \u001b[0;34m\u001b[0m\u001b[0m\n",
      "\u001b[0;31mNotImplementedError\u001b[0m: Multi-part geometries do not provide a coordinate sequence"
     ]
    }
   ],
   "source": [
    "# trying to add only the clip of the map\n",
    "\n",
    "fig, ax = plt.subplots(figsize=(12, 8))\n",
    "\n",
    "abi_plot_locations.plot(color=\"white\",\n",
    "                         edgecolor=\"black\",\n",
    "                         ax=ax)\n",
    "\n",
    "Clip2.plot(ax=ax,\n",
    "                 column='name')\n",
    "ax.set_axis_off()\n",
    "plt.axis('equal')\n",
    "\n",
    "Clip2.apply(lambda x: ax.annotate(s=x['name'],\n",
    "                                        xy=x.geometry.coords[0],\n",
    "                                        xytext=(6, 6), textcoords=\"offset points\",\n",
    "                                        backgroundcolor=\"white\"),\n",
    "                  axis=1)\n",
    "plt.show()"
   ]
  },
  {
   "cell_type": "code",
   "execution_count": 49,
   "metadata": {},
   "outputs": [
    {
     "data": {
      "text/html": [
       "<div style=\"width:100%;\"><div style=\"position:relative;width:100%;height:0;padding-bottom:60%;\"><span style=\"color:#565656\">Make this Notebook Trusted to load map: File -> Trust Notebook</span><iframe src=\"about:blank\" style=\"position:absolute;width:100%;height:100%;left:0;top:0;border:none !important;\" data-html=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 onload=\"this.contentDocument.open();this.contentDocument.write(atob(this.getAttribute('data-html')));this.contentDocument.close();\" allowfullscreen webkitallowfullscreen mozallowfullscreen></iframe></div></div>"
      ],
      "text/plain": [
       "<folium.folium.Map at 0x7fe93d6cbaf0>"
      ]
     },
     "execution_count": 49,
     "metadata": {},
     "output_type": "execute_result"
    }
   ],
   "source": [
    "abi_map = folium.Map([51.6708, -1.2880],\n",
    "                  zoom_start=12,\n",
    "                  tiles='stamenterrain')\n",
    " \n",
    "#boundary = folium.features.GeoJson(boundary_json)\n",
    "\n",
    "#abi_map.add_child(boundary)\n",
    "\n",
    "#abi_plot_locations_json = abi_plot_locations.to_crs(epsg=4326).to_json()\n",
    "\n",
    "#points = folium.features.GeoJson(abi_plot_locations_json)\n",
    "\n",
    "##abi_map.add_child(points)\n",
    "\n",
    "# I can add marker one by one on the map\n",
    "for i in range(0,len(Mapme)):\n",
    "   folium.Circle(\n",
    "      #popup=Mapme.iloc[i]['Value'],\n",
    "      location=[Mapme.iloc[i]['Latitude'],Mapme.iloc[i]['Longitude']],\n",
    "      radius=Mapme.iloc[i]['Value']*1.5,\n",
    "      fill=True,\n",
    "      color='crimson',\n",
    "      fill_color='crimson'\n",
    "   ).add_to(abi_map)\n",
    "\n",
    "#add foursquare venues\n",
    "for j in range(0,len(nearby_venues)):\n",
    "   #print([nearby_venues.iloc[j]['lat']])\n",
    "   folium.Circle(\n",
    "      popup=nearby_venues.iloc[j]['categories'],\n",
    "      location=[nearby_venues.iloc[j]['lat'],nearby_venues.iloc[j]['lng']],\n",
    "      radius=10,\n",
    "      fill=True,\n",
    "      color='blue',\n",
    "      fill_color='blue'\n",
    "   ).add_to(abi_map)\n",
    "\n",
    "#HeatMap(Grouped).add_to(abi_map)\n",
    "abi_map\n"
   ]
  },
  {
   "cell_type": "code",
   "execution_count": null,
   "metadata": {},
   "outputs": [],
   "source": []
  }
 ],
 "metadata": {
  "kernelspec": {
   "display_name": "Python 3",
   "language": "python",
   "name": "python3"
  },
  "language_info": {
   "codemirror_mode": {
    "name": "ipython",
    "version": 3
   },
   "file_extension": ".py",
   "mimetype": "text/x-python",
   "name": "python",
   "nbconvert_exporter": "python",
   "pygments_lexer": "ipython3",
   "version": "3.8.3"
  }
 },
 "nbformat": 4,
 "nbformat_minor": 4
}
